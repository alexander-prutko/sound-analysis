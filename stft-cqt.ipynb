{
 "cells": [
  {
   "cell_type": "code",
   "execution_count": 1,
   "metadata": {
    "ExecuteTime": {
     "end_time": "2019-04-18T18:07:27.580218Z",
     "start_time": "2019-04-18T18:07:26.238602Z"
    }
   },
   "outputs": [],
   "source": [
    "import librosa\n",
    "from librosa import display\n",
    "import matplotlib.pyplot as plt\n",
    "import numpy as np\n",
    "import matplotlib.animation as animation\n",
    "import os\n",
    "\n",
    "%matplotlib inline "
   ]
  },
  {
   "cell_type": "code",
   "execution_count": 2,
   "metadata": {
    "ExecuteTime": {
     "end_time": "2019-04-18T18:07:27.593458Z",
     "start_time": "2019-04-18T18:07:27.591966Z"
    }
   },
   "outputs": [],
   "source": [
    "from importlib import reload"
   ]
  },
  {
   "cell_type": "code",
   "execution_count": 3,
   "metadata": {
    "ExecuteTime": {
     "end_time": "2019-04-18T18:07:27.607286Z",
     "start_time": "2019-04-18T18:07:27.605427Z"
    }
   },
   "outputs": [],
   "source": [
    "k = 1\n",
    "fk = 1\n",
    "resample_factor = 6\n",
    "keys = 12\n",
    "bins_per_octave = keys*k\n",
    "sr = 44100\n",
    "sr_resampled = sr*resample_factor\n",
    "n_octaves = 9\n",
    "n_bins = n_octaves*keys*k\n",
    "hop_length = 256\n",
    "file = \"Lune.mp3\""
   ]
  },
  {
   "cell_type": "code",
   "execution_count": 4,
   "metadata": {
    "ExecuteTime": {
     "end_time": "2019-04-18T18:07:30.495117Z",
     "start_time": "2019-04-18T18:07:30.492270Z"
    }
   },
   "outputs": [],
   "source": [
    "if not os.path.exists('D.npy'):\n",
    "    y, sr = librosa.load(file, sr=None, offset=0, duration=120)\n",
    "    y_resampled = librosa.resample(y, sr, sr_resampled)\n",
    "    D = np.abs(librosa.stft(y_resampled, hop_length=hop_length, n_fft=2048))\n",
    "    C = np.abs(librosa.cqt(y_resampled, sr=sr_resampled, bins_per_octave=bins_per_octave, \n",
    "                           n_bins=n_bins, hop_length=hop_length, filter_scale=1/fk))"
   ]
  },
  {
   "cell_type": "code",
   "execution_count": 5,
   "metadata": {
    "ExecuteTime": {
     "end_time": "2019-04-18T18:07:33.699453Z",
     "start_time": "2019-04-18T18:07:33.060042Z"
    }
   },
   "outputs": [
    {
     "ename": "NameError",
     "evalue": "name 'D' is not defined",
     "output_type": "error",
     "traceback": [
      "\u001b[0;31m---------------------------------------------------------------------------\u001b[0m",
      "\u001b[0;31mNameError\u001b[0m                                 Traceback (most recent call last)",
      "\u001b[0;32m<ipython-input-5-34347f22efcc>\u001b[0m in \u001b[0;36m<module>\u001b[0;34m()\u001b[0m\n\u001b[0;32m----> 1\u001b[0;31m \u001b[0mprint\u001b[0m\u001b[0;34m(\u001b[0m\u001b[0;34m\"STFT shape: {} \\nCQT shape: {}\"\u001b[0m\u001b[0;34m.\u001b[0m\u001b[0mformat\u001b[0m\u001b[0;34m(\u001b[0m\u001b[0mD\u001b[0m\u001b[0;34m.\u001b[0m\u001b[0mshape\u001b[0m\u001b[0;34m,\u001b[0m \u001b[0mC\u001b[0m\u001b[0;34m.\u001b[0m\u001b[0mshape\u001b[0m\u001b[0;34m)\u001b[0m\u001b[0;34m)\u001b[0m\u001b[0;34m\u001b[0m\u001b[0;34m\u001b[0m\u001b[0m\n\u001b[0m\u001b[1;32m      2\u001b[0m \u001b[0mprint\u001b[0m\u001b[0;34m(\u001b[0m\u001b[0;34m\"Sample rate: {} \\nNew sample rate: {}\"\u001b[0m\u001b[0;34m.\u001b[0m\u001b[0mformat\u001b[0m\u001b[0;34m(\u001b[0m\u001b[0msr\u001b[0m\u001b[0;34m,\u001b[0m \u001b[0msr_resampled\u001b[0m\u001b[0;34m)\u001b[0m\u001b[0;34m)\u001b[0m\u001b[0;34m\u001b[0m\u001b[0;34m\u001b[0m\u001b[0m\n\u001b[1;32m      3\u001b[0m print(\"N octaves: {}\\nHop length: {} \\nBins per octave: {} \\nN bins: {}\".format(n_octaves, hop_length,\n\u001b[1;32m      4\u001b[0m                                                                                   bins_per_octave, n_bins))\n",
      "\u001b[0;31mNameError\u001b[0m: name 'D' is not defined"
     ]
    }
   ],
   "source": [
    "print(\"STFT shape: {} \\nCQT shape: {}\".format(D.shape, C.shape))\n",
    "print(\"Sample rate: {} \\nNew sample rate: {}\".format(sr, sr_resampled))\n",
    "print(\"N octaves: {}\\nHop length: {} \\nBins per octave: {} \\nN bins: {}\".format(n_octaves, hop_length,\n",
    "                                                                                  bins_per_octave, n_bins))"
   ]
  },
  {
   "cell_type": "code",
   "execution_count": 6,
   "metadata": {
    "ExecuteTime": {
     "end_time": "2019-04-18T18:07:36.479277Z",
     "start_time": "2019-04-18T18:07:36.475934Z"
    }
   },
   "outputs": [],
   "source": [
    "if not os.path.exists('D.npy'):\n",
    "    y_test, sr_test = librosa.load(file, sr=None, offset=120, duration=30)\n",
    "    y_test_resampled = librosa.resample(y_test, sr, sr_resampled)\n",
    "    D_test = np.abs(librosa.stft(y_test_resampled, hop_length=hop_length, n_fft=2048))\n",
    "    C_test = np.abs(librosa.cqt(y_test_resampled, sr=sr_resampled, bins_per_octave=bins_per_octave, \n",
    "                                n_bins=n_bins, hop_length=hop_length, filter_scale=1/fk))"
   ]
  },
  {
   "cell_type": "code",
   "execution_count": 7,
   "metadata": {
    "ExecuteTime": {
     "end_time": "2019-04-18T18:07:37.050693Z",
     "start_time": "2019-04-18T18:07:37.044506Z"
    }
   },
   "outputs": [
    {
     "ename": "NameError",
     "evalue": "name 'D_test' is not defined",
     "output_type": "error",
     "traceback": [
      "\u001b[0;31m---------------------------------------------------------------------------\u001b[0m",
      "\u001b[0;31mNameError\u001b[0m                                 Traceback (most recent call last)",
      "\u001b[0;32m<ipython-input-7-598d18edc835>\u001b[0m in \u001b[0;36m<module>\u001b[0;34m()\u001b[0m\n\u001b[0;32m----> 1\u001b[0;31m \u001b[0mprint\u001b[0m\u001b[0;34m(\u001b[0m\u001b[0;34m\"STFT shape: {} \\nCQT shape: {}\"\u001b[0m\u001b[0;34m.\u001b[0m\u001b[0mformat\u001b[0m\u001b[0;34m(\u001b[0m\u001b[0mD_test\u001b[0m\u001b[0;34m.\u001b[0m\u001b[0mshape\u001b[0m\u001b[0;34m,\u001b[0m \u001b[0mC_test\u001b[0m\u001b[0;34m.\u001b[0m\u001b[0mshape\u001b[0m\u001b[0;34m)\u001b[0m\u001b[0;34m)\u001b[0m\u001b[0;34m\u001b[0m\u001b[0;34m\u001b[0m\u001b[0m\n\u001b[0m",
      "\u001b[0;31mNameError\u001b[0m: name 'D_test' is not defined"
     ]
    }
   ],
   "source": [
    "print(\"STFT shape: {} \\nCQT shape: {}\".format(D_test.shape, C_test.shape))"
   ]
  },
  {
   "cell_type": "code",
   "execution_count": 8,
   "metadata": {
    "ExecuteTime": {
     "end_time": "2019-04-18T18:07:39.091649Z",
     "start_time": "2019-04-18T18:07:39.089040Z"
    }
   },
   "outputs": [],
   "source": [
    "if not os.path.exists('D.npy'):\n",
    "    plt.figure(figsize=(12, 8))\n",
    "    display.specshow(librosa.amplitude_to_db(D, ref=np.max), sr=sr_resampled*2, y_axis='log', x_axis='time')\n",
    "    plt.title('Power spectrogram')\n",
    "    plt.colorbar(format='%+2.0f dB')\n",
    "    plt.tight_layout()"
   ]
  },
  {
   "cell_type": "code",
   "execution_count": 9,
   "metadata": {
    "ExecuteTime": {
     "end_time": "2019-04-18T18:07:40.230544Z",
     "start_time": "2019-04-18T18:07:40.228496Z"
    }
   },
   "outputs": [],
   "source": [
    "if not os.path.exists('D.npy'):\n",
    "    plt.figure(figsize=(12, 8))\n",
    "    display.specshow(librosa.amplitude_to_db(C, ref=np.max), sr=sr_resampled*2, x_axis='time', y_axis='cqt_note', bins_per_octave=bins_per_octave) \n",
    "    plt.title('Constant-Q power spectrum')\n",
    "    plt.colorbar(format='%+2.0f dB')\n",
    "    plt.tight_layout()"
   ]
  },
  {
   "cell_type": "code",
   "execution_count": 10,
   "metadata": {
    "ExecuteTime": {
     "end_time": "2019-04-18T18:07:42.378074Z",
     "start_time": "2019-04-18T18:07:42.003813Z"
    }
   },
   "outputs": [],
   "source": [
    "from __future__ import print_function\n",
    "\n",
    "import argparse\n",
    "import os\n",
    "import random\n",
    "import torch\n",
    "import torch.nn as nn\n",
    "import torch.nn.parallel\n",
    "import torch.backends.cudnn as cudnn\n",
    "import torch.optim as optim\n",
    "import torch.utils.data\n",
    "import torchvision.datasets as dset\n",
    "import torchvision.transforms as transforms\n",
    "import torchvision.utils as vutils\n",
    "\n",
    "from IPython.display import HTML\n",
    "\n",
    "import torch_models"
   ]
  },
  {
   "cell_type": "code",
   "execution_count": 195,
   "metadata": {
    "ExecuteTime": {
     "end_time": "2019-04-18T21:21:52.339266Z",
     "start_time": "2019-04-18T21:21:52.317055Z"
    }
   },
   "outputs": [
    {
     "name": "stdout",
     "output_type": "stream",
     "text": [
      "Random Seed:  999\n"
     ]
    },
    {
     "data": {
      "text/plain": [
       "<torch._C.Generator at 0x7f8c7d634850>"
      ]
     },
     "execution_count": 195,
     "metadata": {},
     "output_type": "execute_result"
    }
   ],
   "source": [
    "torch_models = reload(torch_models)\n",
    "    \n",
    "# Set random seem for reproducibility\n",
    "manualSeed = 999\n",
    "#manualSeed = random.randint(1, 10000) # use if you want new results\n",
    "print(\"Random Seed: \", manualSeed)\n",
    "random.seed(manualSeed)\n",
    "torch.manual_seed(manualSeed)"
   ]
  },
  {
   "cell_type": "code",
   "execution_count": 196,
   "metadata": {
    "ExecuteTime": {
     "end_time": "2019-04-18T21:21:53.946805Z",
     "start_time": "2019-04-18T21:21:53.939557Z"
    }
   },
   "outputs": [],
   "source": [
    "# Number of workers for dataloader\n",
    "workers = 2\n",
    "\n",
    "# Batch size during training\n",
    "batch_size = 128\n",
    "\n",
    "# Number of training epochs\n",
    "num_epochs = 50\n",
    "\n",
    "# Learning rate for optimizers\n",
    "lr = 0.0002\n",
    "\n",
    "# Beta1 hyperparam for Adam optimizers\n",
    "beta1 = 0.5\n",
    "\n",
    "# Number of GPUs available. Use 0 for CPU mode.\n",
    "ngpu = 1"
   ]
  },
  {
   "cell_type": "code",
   "execution_count": 197,
   "metadata": {
    "ExecuteTime": {
     "end_time": "2019-04-18T21:21:54.546752Z",
     "start_time": "2019-04-18T21:21:54.126047Z"
    }
   },
   "outputs": [],
   "source": [
    "if not os.path.exists('D.npy'):\n",
    "    stft_mean = D.mean(axis=1)\n",
    "    stft_std = D.std(axis=1)\n",
    "    D_stand = (((D.T - stft_mean)/stft_std).T).astype(\"double\")\n",
    "    D_test_stand = (((D_test.T - stft_mean)/stft_std).T).astype(\"double\")\n",
    "\n",
    "    cqt_mean = C.mean(axis=1)\n",
    "    cqt_std = C.std(axis=1)\n",
    "    C_stand = (((C.T - cqt_mean)/cqt_std).T).astype(\"double\")\n",
    "    C_test_stand = (((C_test.T - cqt_mean)/cqt_std).T).astype(\"double\")\n",
    "\n",
    "    np.save('D.npy', D_stand)\n",
    "    np.save('Dt.npy', D_test_stand)\n",
    "    np.save('C.npy', C_stand)\n",
    "    np.save('Ct.npy', C_test_stand)\n",
    "else:\n",
    "    D_stand = np.load('D.npy')\n",
    "    D_test_stand = np.load('Dt.npy')\n",
    "    C_stand = np.load('C.npy')\n",
    "    C_test_stand = np.load('Ct.npy')\n",
    "\n",
    "# Create the dataset\n",
    "dataset = torch_models.STFT_CQT_Dataset(D_stand, C_stand)\n",
    "\n",
    "testset = torch_models.STFT_CQT_Dataset(D_test_stand, C_test_stand)    \n",
    "    \n",
    "# Create the dataloader\n",
    "dataloader = torch.utils.data.DataLoader(dataset, batch_size=batch_size,\n",
    "                                         shuffle=True, num_workers=workers)\n",
    "\n",
    "testloader = torch.utils.data.DataLoader(testset, batch_size=batch_size,\n",
    "                                         shuffle=True, num_workers=workers)\n",
    "\n",
    "# Decide which device we want to run on\n",
    "device = torch.device(\"cuda:0\" if (torch.cuda.is_available() and ngpu > 0) else \"cpu\")"
   ]
  },
  {
   "cell_type": "code",
   "execution_count": 198,
   "metadata": {
    "ExecuteTime": {
     "end_time": "2019-04-18T21:21:54.575700Z",
     "start_time": "2019-04-18T21:21:54.572742Z"
    }
   },
   "outputs": [],
   "source": [
    "# custom weights initialization\n",
    "def weights_init(m):\n",
    "    classname = m.__class__.__name__\n",
    "    if classname.find('Linear') != -1:\n",
    "        nn.init.kaiming_normal_(m.weight.data, nonlinearity='relu')\n",
    "    elif classname.find('BatchNorm') != -1:\n",
    "        nn.init.normal_(m.weight.data, 1.0, 0.02)\n",
    "        nn.init.constant_(m.bias.data, 0)\n",
    "    elif classname.find('Conv') != -1:\n",
    "        nn.init.kaiming_normal_(m.weight.data, nonlinearity='relu')"
   ]
  },
  {
   "cell_type": "code",
   "execution_count": 199,
   "metadata": {
    "ExecuteTime": {
     "end_time": "2019-04-18T21:21:54.817604Z",
     "start_time": "2019-04-18T21:21:54.779578Z"
    }
   },
   "outputs": [
    {
     "name": "stdout",
     "output_type": "stream",
     "text": [
      "STFT2CQT_gen(\n",
      "  (Linear0): Linear(in_features=1025, out_features=512, bias=True)\n",
      "  (Linear1): Linear(in_features=512, out_features=108, bias=True)\n",
      "  (BatchNorm0): BatchNorm1d(512, eps=1e-05, momentum=0.1, affine=True, track_running_stats=True)\n",
      ")\n"
     ]
    }
   ],
   "source": [
    "stft2cqt = torch_models.gen_stft2cqt([1025, 512, 108], ngpu).double().to(device)\n",
    "if (device.type == 'cuda') and (ngpu > 1):\n",
    "    stft2cqt = nn.DataParallel(stft2cqt, list(range(ngpu)))\n",
    "stft2cqt.apply(weights_init)\n",
    "print(stft2cqt)"
   ]
  },
  {
   "cell_type": "code",
   "execution_count": 154,
   "metadata": {
    "ExecuteTime": {
     "end_time": "2019-04-18T21:12:57.750993Z",
     "start_time": "2019-04-18T21:12:57.499569Z"
    }
   },
   "outputs": [
    {
     "name": "stdout",
     "output_type": "stream",
     "text": [
      "STFT2CQT(\n",
      "  (main): Sequential(\n",
      "    (0): Linear(in_features=1025, out_features=2050, bias=True)\n",
      "    (1): BatchNorm1d(2050, eps=1e-05, momentum=0.1, affine=True, track_running_stats=True)\n",
      "    (2): ReLU(inplace)\n",
      "    (3): Linear(in_features=2050, out_features=1025, bias=True)\n",
      "    (4): BatchNorm1d(1025, eps=1e-05, momentum=0.1, affine=True, track_running_stats=True)\n",
      "    (5): ReLU(inplace)\n",
      "    (6): Linear(in_features=1025, out_features=512, bias=True)\n",
      "    (7): BatchNorm1d(512, eps=1e-05, momentum=0.1, affine=True, track_running_stats=True)\n",
      "    (8): ReLU(inplace)\n",
      "    (9): Linear(in_features=512, out_features=256, bias=True)\n",
      "    (10): BatchNorm1d(256, eps=1e-05, momentum=0.1, affine=True, track_running_stats=True)\n",
      "    (11): ReLU(inplace)\n",
      "    (12): Linear(in_features=256, out_features=108, bias=True)\n",
      "    (13): Tanh()\n",
      "  )\n",
      ")\n"
     ]
    }
   ],
   "source": [
    "# Create the STFT2CQT\n",
    "stft2cqt = torch_models.STFT2CQT(ngpu).double().to(device)\n",
    "\n",
    "# Handle multi-gpu if desired\n",
    "if (device.type == 'cuda') and (ngpu > 1):\n",
    "    stft2cqt = nn.DataParallel(stft2cqt, list(range(ngpu)))\n",
    "\n",
    "# Apply the weights_init function to randomly initialize all weights\n",
    "#  to mean=0, stdev=0.02.\n",
    "stft2cqt.apply(weights_init)\n",
    "\n",
    "# Print the model\n",
    "print(stft2cqt)"
   ]
  },
  {
   "cell_type": "code",
   "execution_count": 155,
   "metadata": {
    "ExecuteTime": {
     "end_time": "2019-04-18T21:12:58.603140Z",
     "start_time": "2019-04-18T21:12:58.362660Z"
    }
   },
   "outputs": [
    {
     "name": "stdout",
     "output_type": "stream",
     "text": [
      "CQT2STFT(\n",
      "  (main): Sequential(\n",
      "    (0): Linear(in_features=108, out_features=256, bias=True)\n",
      "    (1): BatchNorm1d(256, eps=1e-05, momentum=0.1, affine=True, track_running_stats=True)\n",
      "    (2): ReLU(inplace)\n",
      "    (3): Linear(in_features=256, out_features=512, bias=True)\n",
      "    (4): BatchNorm1d(512, eps=1e-05, momentum=0.1, affine=True, track_running_stats=True)\n",
      "    (5): ReLU(inplace)\n",
      "    (6): Linear(in_features=512, out_features=1025, bias=True)\n",
      "    (7): BatchNorm1d(1025, eps=1e-05, momentum=0.1, affine=True, track_running_stats=True)\n",
      "    (8): ReLU(inplace)\n",
      "    (9): Linear(in_features=1025, out_features=2050, bias=True)\n",
      "    (10): BatchNorm1d(2050, eps=1e-05, momentum=0.1, affine=True, track_running_stats=True)\n",
      "    (11): ReLU(inplace)\n",
      "    (12): Linear(in_features=2050, out_features=1025, bias=True)\n",
      "    (13): Tanh()\n",
      "  )\n",
      ")\n"
     ]
    }
   ],
   "source": [
    "# Create the CQT2STFT\n",
    "cqt2stft = torch_models.CQT2STFT(ngpu).double().to(device)\n",
    "\n",
    "# Handle multi-gpu if desired\n",
    "if (device.type == 'cuda') and (ngpu > 1):\n",
    "    cqt2stft = nn.DataParallel(cqt2stft, list(range(ngpu)))\n",
    "\n",
    "# Apply the weights_init function to randomly initialize all weights\n",
    "#  to mean=0, stdev=0.02.\n",
    "cqt2stft.apply(weights_init)\n",
    "\n",
    "# Print the model\n",
    "print(cqt2stft)"
   ]
  },
  {
   "cell_type": "code",
   "execution_count": 207,
   "metadata": {
    "ExecuteTime": {
     "end_time": "2019-04-19T05:30:08.506251Z",
     "start_time": "2019-04-19T05:30:08.059567Z"
    }
   },
   "outputs": [
    {
     "name": "stdout",
     "output_type": "stream",
     "text": [
      "CQT2STFT_conv(\n",
      "  (conv1): Conv1d(1, 16, kernel_size=(13,), stride=(1,), padding=(6,))\n",
      "  (pool1): MaxPool1d(kernel_size=2, stride=2, padding=0, dilation=1, ceil_mode=False)\n",
      "  (bn1): BatchNorm1d(16, eps=1e-05, momentum=0.1, affine=True, track_running_stats=True)\n",
      "  (conv2): Conv1d(16, 32, kernel_size=(3,), stride=(1,), padding=(1,))\n",
      "  (pool2): MaxPool1d(kernel_size=2, stride=2, padding=0, dilation=1, ceil_mode=False)\n",
      "  (bn2): BatchNorm1d(32, eps=1e-05, momentum=0.1, affine=True, track_running_stats=True)\n",
      "  (conv3): Conv1d(1, 16, kernel_size=(9,), stride=(1,), dilation=(9,))\n",
      "  (bn3): BatchNorm1d(16, eps=1e-05, momentum=0.1, affine=True, track_running_stats=True)\n",
      "  (conv4): Conv1d(16, 32, kernel_size=(3,), stride=(1,), padding=(1,))\n",
      "  (bn4): BatchNorm1d(32, eps=1e-05, momentum=0.1, affine=True, track_running_stats=True)\n",
      "  (linear5): Linear(in_features=2016, out_features=2050, bias=True)\n",
      "  (bn5): BatchNorm1d(2050, eps=1e-05, momentum=0.1, affine=True, track_running_stats=True)\n",
      "  (linear6): Linear(in_features=2050, out_features=2050, bias=True)\n",
      "  (bn6): BatchNorm1d(2050, eps=1e-05, momentum=0.1, affine=True, track_running_stats=True)\n",
      "  (linear7): Linear(in_features=2050, out_features=1025, bias=True)\n",
      ")\n"
     ]
    }
   ],
   "source": [
    "# Create the CQT2STFT_conv\n",
    "cqt2stft_conv = torch_models.CQT2STFT_conv(ngpu).double().to(device)\n",
    "\n",
    "# Handle multi-gpu if desired\n",
    "if (device.type == 'cuda') and (ngpu > 1):\n",
    "    cqt2stft_conv = nn.DataParallel(cqt2stft_conv, list(range(ngpu)))\n",
    "\n",
    "# Apply the weights_init function to randomly initialize all weights\n",
    "#  to mean=0, stdev=0.02.\n",
    "cqt2stft_conv.apply(weights_init)\n",
    "\n",
    "# Print the model\n",
    "print(cqt2stft_conv)"
   ]
  },
  {
   "cell_type": "code",
   "execution_count": 208,
   "metadata": {
    "ExecuteTime": {
     "end_time": "2019-04-19T05:30:10.710476Z",
     "start_time": "2019-04-19T05:30:10.700648Z"
    }
   },
   "outputs": [],
   "source": [
    "# Initialize MSELoss function\n",
    "mseLoss = nn.MSELoss()\n",
    "\n",
    "# Setup Adam optimizer for both stft2cqt, cqt2stft and cqt2stft_conv\n",
    "optimizer_stft2cqt = optim.Adam(stft2cqt.parameters(), lr=lr, betas=(beta1, 0.999))\n",
    "# optimizer_cqt2stft = optim.Adam(cqt2stft.parameters(), lr=lr, betas=(beta1, 0.999))\n",
    "optimizer_cqt2stft_conv = optim.Adam(cqt2stft_conv.parameters(), lr=lr, betas=(beta1, 0.999))"
   ]
  },
  {
   "cell_type": "code",
   "execution_count": 79,
   "metadata": {
    "ExecuteTime": {
     "end_time": "2019-04-18T19:27:59.059645Z",
     "start_time": "2019-04-18T19:13:42.939933Z"
    }
   },
   "outputs": [
    {
     "name": "stdout",
     "output_type": "stream",
     "text": [
      "Starting Training Loop...\n",
      "[0/50][0/969]\tLoss: 1.3256\n"
     ]
    },
    {
     "name": "stderr",
     "output_type": "stream",
     "text": [
      "/media/alex/Data/alex/anaconda3/lib/python3.6/site-packages/torch/nn/functional.py:1320: UserWarning: nn.functional.tanh is deprecated. Use torch.tanh instead.\n",
      "  warnings.warn(\"nn.functional.tanh is deprecated. Use torch.tanh instead.\")\n"
     ]
    },
    {
     "name": "stdout",
     "output_type": "stream",
     "text": [
      "[0/50][50/969]\tLoss: 0.6696\n",
      "[0/50][100/969]\tLoss: 0.7789\n",
      "[0/50][150/969]\tLoss: 0.7918\n",
      "[0/50][200/969]\tLoss: 0.7325\n",
      "[0/50][250/969]\tLoss: 0.5332\n",
      "[0/50][300/969]\tLoss: 0.7121\n",
      "[0/50][350/969]\tLoss: 0.5933\n",
      "[0/50][400/969]\tLoss: 0.5711\n",
      "[0/50][450/969]\tLoss: 0.6383\n",
      "[0/50][500/969]\tLoss: 0.5768\n",
      "[0/50][550/969]\tLoss: 0.5619\n",
      "[0/50][600/969]\tLoss: 0.5829\n",
      "[0/50][650/969]\tLoss: 0.6210\n",
      "[0/50][700/969]\tLoss: 0.4907\n",
      "[0/50][750/969]\tLoss: 0.7029\n",
      "[0/50][800/969]\tLoss: 0.6360\n",
      "[0/50][850/969]\tLoss: 0.7034\n",
      "[0/50][900/969]\tLoss: 0.6067\n",
      "[0/50][950/969]\tLoss: 0.6273\n",
      "Mean train error: 0.6389186323200297 \n",
      "Mean test error: 1.973114124903674 \n",
      "\n",
      "[1/50][0/969]\tLoss: 0.5549\n",
      "[1/50][50/969]\tLoss: 0.4399\n",
      "[1/50][100/969]\tLoss: 0.5183\n",
      "[1/50][150/969]\tLoss: 0.6803\n",
      "[1/50][200/969]\tLoss: 0.5410\n",
      "[1/50][250/969]\tLoss: 0.5662\n",
      "[1/50][300/969]\tLoss: 0.5224\n",
      "[1/50][350/969]\tLoss: 0.6576\n",
      "[1/50][400/969]\tLoss: 0.5161\n",
      "[1/50][450/969]\tLoss: 0.4999\n",
      "[1/50][500/969]\tLoss: 0.5611\n",
      "[1/50][550/969]\tLoss: 0.6103\n",
      "[1/50][600/969]\tLoss: 0.5665\n",
      "[1/50][650/969]\tLoss: 0.4616\n",
      "[1/50][700/969]\tLoss: 0.4896\n",
      "[1/50][750/969]\tLoss: 0.5801\n",
      "[1/50][800/969]\tLoss: 0.5572\n",
      "[1/50][850/969]\tLoss: 0.5839\n",
      "[1/50][900/969]\tLoss: 0.5313\n",
      "[1/50][950/969]\tLoss: 0.5043\n",
      "Mean train error: 0.574378208999606 \n",
      "Mean test error: 1.9306087312873565 \n",
      "\n",
      "[2/50][0/969]\tLoss: 0.6578\n",
      "[2/50][50/969]\tLoss: 0.5272\n",
      "[2/50][100/969]\tLoss: 0.6410\n",
      "[2/50][150/969]\tLoss: 0.6178\n",
      "[2/50][200/969]\tLoss: 0.6218\n",
      "[2/50][250/969]\tLoss: 0.6683\n",
      "[2/50][300/969]\tLoss: 0.5738\n",
      "[2/50][350/969]\tLoss: 0.3993\n",
      "[2/50][400/969]\tLoss: 0.5957\n",
      "[2/50][450/969]\tLoss: 0.6436\n",
      "[2/50][500/969]\tLoss: 0.4745\n",
      "[2/50][550/969]\tLoss: 0.5365\n",
      "[2/50][600/969]\tLoss: 0.5104\n",
      "[2/50][650/969]\tLoss: 0.5056\n",
      "[2/50][700/969]\tLoss: 0.4473\n",
      "[2/50][750/969]\tLoss: 0.6807\n",
      "[2/50][800/969]\tLoss: 0.5725\n",
      "[2/50][850/969]\tLoss: 0.4671\n",
      "[2/50][900/969]\tLoss: 0.4473\n",
      "[2/50][950/969]\tLoss: 0.7245\n",
      "Mean train error: 0.5617099027363672 \n",
      "Mean test error: 1.9333624126736315 \n",
      "\n",
      "[3/50][0/969]\tLoss: 0.7295\n",
      "[3/50][50/969]\tLoss: 0.6068\n",
      "[3/50][100/969]\tLoss: 0.4275\n",
      "[3/50][150/969]\tLoss: 0.6348\n",
      "[3/50][200/969]\tLoss: 0.6703\n",
      "[3/50][250/969]\tLoss: 0.4139\n",
      "[3/50][300/969]\tLoss: 0.4656\n",
      "[3/50][350/969]\tLoss: 0.4444\n",
      "[3/50][400/969]\tLoss: 0.4785\n",
      "[3/50][450/969]\tLoss: 0.4798\n",
      "[3/50][500/969]\tLoss: 0.5343\n",
      "[3/50][550/969]\tLoss: 0.6887\n",
      "[3/50][600/969]\tLoss: 0.5807\n",
      "[3/50][650/969]\tLoss: 0.5617\n",
      "[3/50][700/969]\tLoss: 0.5098\n",
      "[3/50][750/969]\tLoss: 0.5990\n",
      "[3/50][800/969]\tLoss: 0.5654\n",
      "[3/50][850/969]\tLoss: 0.4194\n",
      "[3/50][900/969]\tLoss: 0.6890\n",
      "[3/50][950/969]\tLoss: 0.5059\n",
      "Mean train error: 0.5541244387065776 \n",
      "Mean test error: 1.9415592462659401 \n",
      "\n",
      "[4/50][0/969]\tLoss: 0.5939\n",
      "[4/50][50/969]\tLoss: 0.5976\n",
      "[4/50][100/969]\tLoss: 0.5214\n",
      "[4/50][150/969]\tLoss: 0.5015\n",
      "[4/50][200/969]\tLoss: 0.4838\n",
      "[4/50][250/969]\tLoss: 0.6500\n",
      "[4/50][300/969]\tLoss: 0.5186\n",
      "[4/50][350/969]\tLoss: 0.4891\n",
      "[4/50][400/969]\tLoss: 0.5779\n",
      "[4/50][450/969]\tLoss: 0.5251\n",
      "[4/50][500/969]\tLoss: 0.6240\n",
      "[4/50][550/969]\tLoss: 0.5530\n",
      "[4/50][600/969]\tLoss: 0.5394\n",
      "[4/50][650/969]\tLoss: 0.5191\n",
      "[4/50][700/969]\tLoss: 0.5125\n",
      "[4/50][750/969]\tLoss: 0.4890\n",
      "[4/50][800/969]\tLoss: 0.6071\n",
      "[4/50][850/969]\tLoss: 0.7633\n",
      "[4/50][900/969]\tLoss: 0.4654\n",
      "[4/50][950/969]\tLoss: 0.5204\n",
      "Mean train error: 0.5486271412805653 \n",
      "Mean test error: 1.9540228342058164 \n",
      "\n",
      "[5/50][0/969]\tLoss: 0.5305\n",
      "[5/50][50/969]\tLoss: 0.5335\n",
      "[5/50][100/969]\tLoss: 0.5618\n",
      "[5/50][150/969]\tLoss: 0.4980\n",
      "[5/50][200/969]\tLoss: 0.4724\n",
      "[5/50][250/969]\tLoss: 0.5088\n",
      "[5/50][300/969]\tLoss: 0.4663\n",
      "[5/50][350/969]\tLoss: 0.5729\n",
      "[5/50][400/969]\tLoss: 0.4980\n",
      "[5/50][450/969]\tLoss: 0.5185\n",
      "[5/50][500/969]\tLoss: 0.4639\n",
      "[5/50][550/969]\tLoss: 0.5103\n",
      "[5/50][600/969]\tLoss: 0.4135\n",
      "[5/50][650/969]\tLoss: 0.4609\n",
      "[5/50][700/969]\tLoss: 0.6988\n",
      "[5/50][750/969]\tLoss: 0.4720\n",
      "[5/50][800/969]\tLoss: 0.5726\n",
      "[5/50][850/969]\tLoss: 0.4077\n",
      "[5/50][900/969]\tLoss: 0.6962\n",
      "[5/50][950/969]\tLoss: 0.5232\n",
      "Mean train error: 0.5442175573663333 \n",
      "Mean test error: 1.9254611055628736 \n",
      "\n",
      "[6/50][0/969]\tLoss: 0.5509\n",
      "[6/50][50/969]\tLoss: 0.5031\n",
      "[6/50][100/969]\tLoss: 0.4663\n",
      "[6/50][150/969]\tLoss: 0.4989\n",
      "[6/50][200/969]\tLoss: 0.5535\n",
      "[6/50][250/969]\tLoss: 0.5602\n",
      "[6/50][300/969]\tLoss: 0.5240\n",
      "[6/50][350/969]\tLoss: 0.4079\n",
      "[6/50][400/969]\tLoss: 0.7263\n",
      "[6/50][450/969]\tLoss: 0.5255\n",
      "[6/50][500/969]\tLoss: 0.6000\n",
      "[6/50][550/969]\tLoss: 0.4125\n",
      "[6/50][600/969]\tLoss: 0.4788\n",
      "[6/50][650/969]\tLoss: 0.4740\n",
      "[6/50][700/969]\tLoss: 0.4843\n",
      "[6/50][750/969]\tLoss: 0.7012\n",
      "[6/50][800/969]\tLoss: 0.6784\n",
      "[6/50][850/969]\tLoss: 0.4110\n",
      "[6/50][900/969]\tLoss: 0.5466\n",
      "[6/50][950/969]\tLoss: 0.6271\n",
      "Mean train error: 0.540732571939085 \n",
      "Mean test error: 1.924234632734149 \n",
      "\n",
      "[7/50][0/969]\tLoss: 0.5060\n",
      "[7/50][50/969]\tLoss: 0.4709\n",
      "[7/50][100/969]\tLoss: 0.5064\n",
      "[7/50][150/969]\tLoss: 0.5028\n",
      "[7/50][200/969]\tLoss: 0.3929\n",
      "[7/50][250/969]\tLoss: 0.5420\n",
      "[7/50][300/969]\tLoss: 0.5423\n",
      "[7/50][350/969]\tLoss: 0.4496\n",
      "[7/50][400/969]\tLoss: 0.4924\n",
      "[7/50][450/969]\tLoss: 0.4992\n",
      "[7/50][500/969]\tLoss: 0.7081\n",
      "[7/50][550/969]\tLoss: 0.6346\n",
      "[7/50][600/969]\tLoss: 0.4756\n",
      "[7/50][650/969]\tLoss: 0.7589\n",
      "[7/50][700/969]\tLoss: 0.4073\n",
      "[7/50][750/969]\tLoss: 0.4991\n",
      "[7/50][800/969]\tLoss: 0.5850\n",
      "[7/50][850/969]\tLoss: 0.5500\n",
      "[7/50][900/969]\tLoss: 0.6991\n",
      "[7/50][950/969]\tLoss: 0.7232\n",
      "Mean train error: 0.5378561923433738 \n",
      "Mean test error: 1.9274281531680924 \n",
      "\n",
      "[8/50][0/969]\tLoss: 0.5213\n",
      "[8/50][50/969]\tLoss: 0.6408\n",
      "[8/50][100/969]\tLoss: 0.6359\n",
      "[8/50][150/969]\tLoss: 0.5230\n",
      "[8/50][200/969]\tLoss: 0.5166\n",
      "[8/50][250/969]\tLoss: 0.5725\n",
      "[8/50][300/969]\tLoss: 0.6546\n",
      "[8/50][350/969]\tLoss: 0.5442\n",
      "[8/50][400/969]\tLoss: 0.4999\n",
      "[8/50][450/969]\tLoss: 0.4968\n",
      "[8/50][500/969]\tLoss: 0.5745\n",
      "[8/50][550/969]\tLoss: 0.6112\n",
      "[8/50][600/969]\tLoss: 0.5840\n",
      "[8/50][650/969]\tLoss: 0.5874\n",
      "[8/50][700/969]\tLoss: 0.4524\n",
      "[8/50][750/969]\tLoss: 0.5660\n",
      "[8/50][800/969]\tLoss: 0.6135\n",
      "[8/50][850/969]\tLoss: 0.3627\n",
      "[8/50][900/969]\tLoss: 0.5867\n",
      "[8/50][950/969]\tLoss: 0.5120\n",
      "Mean train error: 0.5349983128554595 \n",
      "Mean test error: 1.9026607350438791 \n",
      "\n",
      "[9/50][0/969]\tLoss: 0.4997\n",
      "[9/50][50/969]\tLoss: 0.4493\n",
      "[9/50][100/969]\tLoss: 0.6200\n",
      "[9/50][150/969]\tLoss: 0.4532\n",
      "[9/50][200/969]\tLoss: 0.5728\n",
      "[9/50][250/969]\tLoss: 0.6938\n",
      "[9/50][300/969]\tLoss: 0.5778\n",
      "[9/50][350/969]\tLoss: 0.4447\n",
      "[9/50][400/969]\tLoss: 0.6068\n",
      "[9/50][450/969]\tLoss: 0.6022\n",
      "[9/50][500/969]\tLoss: 0.4497\n",
      "[9/50][550/969]\tLoss: 0.4641\n",
      "[9/50][600/969]\tLoss: 0.6135\n",
      "[9/50][650/969]\tLoss: 0.4788\n",
      "[9/50][700/969]\tLoss: 0.5286\n",
      "[9/50][750/969]\tLoss: 0.5592\n",
      "[9/50][800/969]\tLoss: 0.5054\n",
      "[9/50][850/969]\tLoss: 0.4571\n",
      "[9/50][900/969]\tLoss: 0.4439\n",
      "[9/50][950/969]\tLoss: 0.5771\n",
      "Mean train error: 0.532833584944965 \n",
      "Mean test error: 1.9198649722247627 \n",
      "\n",
      "[10/50][0/969]\tLoss: 0.4537\n",
      "[10/50][50/969]\tLoss: 0.5673\n",
      "[10/50][100/969]\tLoss: 0.7391\n",
      "[10/50][150/969]\tLoss: 0.4582\n",
      "[10/50][200/969]\tLoss: 0.5723\n",
      "[10/50][250/969]\tLoss: 0.5062\n",
      "[10/50][300/969]\tLoss: 0.4956\n",
      "[10/50][350/969]\tLoss: 0.4837\n",
      "[10/50][400/969]\tLoss: 0.4198\n",
      "[10/50][450/969]\tLoss: 0.5301\n",
      "[10/50][500/969]\tLoss: 0.4761\n",
      "[10/50][550/969]\tLoss: 0.5491\n",
      "[10/50][600/969]\tLoss: 0.6072\n",
      "[10/50][650/969]\tLoss: 0.4123\n",
      "[10/50][700/969]\tLoss: 0.5351\n",
      "[10/50][750/969]\tLoss: 0.5111\n",
      "[10/50][800/969]\tLoss: 0.5648\n",
      "[10/50][850/969]\tLoss: 0.6029\n",
      "[10/50][900/969]\tLoss: 0.5965\n",
      "[10/50][950/969]\tLoss: 0.4334\n",
      "Mean train error: 0.5305432411349114 \n",
      "Mean test error: 1.921132500473078 \n",
      "\n",
      "[11/50][0/969]\tLoss: 0.4477\n",
      "[11/50][50/969]\tLoss: 0.6458\n",
      "[11/50][100/969]\tLoss: 0.5524\n",
      "[11/50][150/969]\tLoss: 0.4529\n",
      "[11/50][200/969]\tLoss: 0.5584\n",
      "[11/50][250/969]\tLoss: 0.6777\n",
      "[11/50][300/969]\tLoss: 0.4319\n",
      "[11/50][350/969]\tLoss: 0.4928\n",
      "[11/50][400/969]\tLoss: 0.4903\n",
      "[11/50][450/969]\tLoss: 0.5342\n",
      "[11/50][500/969]\tLoss: 0.5445\n",
      "[11/50][550/969]\tLoss: 0.4968\n",
      "[11/50][600/969]\tLoss: 0.5583\n",
      "[11/50][650/969]\tLoss: 0.5417\n",
      "[11/50][700/969]\tLoss: 0.5330\n",
      "[11/50][750/969]\tLoss: 0.5175\n",
      "[11/50][800/969]\tLoss: 0.7750\n",
      "[11/50][850/969]\tLoss: 0.5112\n",
      "[11/50][900/969]\tLoss: 0.6155\n",
      "[11/50][950/969]\tLoss: 0.7206\n",
      "Mean train error: 0.528891129677802 \n",
      "Mean test error: 1.9652818585782543 \n",
      "\n",
      "[12/50][0/969]\tLoss: 0.5077\n",
      "[12/50][50/969]\tLoss: 0.5630\n",
      "[12/50][100/969]\tLoss: 0.5142\n",
      "[12/50][150/969]\tLoss: 0.5827\n",
      "[12/50][200/969]\tLoss: 0.4681\n",
      "[12/50][250/969]\tLoss: 0.5752\n",
      "[12/50][300/969]\tLoss: 0.5669\n",
      "[12/50][350/969]\tLoss: 0.5473\n",
      "[12/50][400/969]\tLoss: 0.3755\n",
      "[12/50][450/969]\tLoss: 0.5022\n",
      "[12/50][500/969]\tLoss: 0.4515\n",
      "[12/50][550/969]\tLoss: 0.5922\n"
     ]
    },
    {
     "name": "stdout",
     "output_type": "stream",
     "text": [
      "[12/50][600/969]\tLoss: 0.4595\n",
      "[12/50][650/969]\tLoss: 0.5272\n",
      "[12/50][700/969]\tLoss: 0.7046\n",
      "[12/50][750/969]\tLoss: 0.5531\n",
      "[12/50][800/969]\tLoss: 0.4448\n",
      "[12/50][850/969]\tLoss: 0.5996\n",
      "[12/50][900/969]\tLoss: 0.5170\n",
      "[12/50][950/969]\tLoss: 0.4600\n",
      "Mean train error: 0.5269678354092704 \n",
      "Mean test error: 1.9401924189017183 \n",
      "\n",
      "[13/50][0/969]\tLoss: 0.4535\n",
      "[13/50][50/969]\tLoss: 0.4944\n",
      "[13/50][100/969]\tLoss: 0.4945\n",
      "[13/50][150/969]\tLoss: 0.4331\n",
      "[13/50][200/969]\tLoss: 0.6301\n",
      "[13/50][250/969]\tLoss: 0.5878\n",
      "[13/50][300/969]\tLoss: 0.4893\n",
      "[13/50][350/969]\tLoss: 0.6358\n",
      "[13/50][400/969]\tLoss: 0.5956\n",
      "[13/50][450/969]\tLoss: 0.5121\n",
      "[13/50][500/969]\tLoss: 0.4768\n",
      "[13/50][550/969]\tLoss: 0.5390\n",
      "[13/50][600/969]\tLoss: 0.4580\n",
      "[13/50][650/969]\tLoss: 0.5176\n",
      "[13/50][700/969]\tLoss: 0.4893\n",
      "[13/50][750/969]\tLoss: 0.4377\n",
      "[13/50][800/969]\tLoss: 0.5682\n",
      "[13/50][850/969]\tLoss: 0.4792\n",
      "[13/50][900/969]\tLoss: 0.5900\n",
      "[13/50][950/969]\tLoss: 0.5399\n",
      "Mean train error: 0.5249567817045087 \n",
      "Mean test error: 1.932294032698194 \n",
      "\n",
      "[14/50][0/969]\tLoss: 0.5468\n",
      "[14/50][50/969]\tLoss: 0.5763\n",
      "[14/50][100/969]\tLoss: 0.4252\n",
      "[14/50][150/969]\tLoss: 0.5551\n",
      "[14/50][200/969]\tLoss: 0.5530\n",
      "[14/50][250/969]\tLoss: 0.5261\n",
      "[14/50][300/969]\tLoss: 0.5397\n",
      "[14/50][350/969]\tLoss: 0.4479\n",
      "[14/50][400/969]\tLoss: 0.5261\n",
      "[14/50][450/969]\tLoss: 0.5931\n",
      "[14/50][500/969]\tLoss: 0.4859\n",
      "[14/50][550/969]\tLoss: 0.5432\n",
      "[14/50][600/969]\tLoss: 0.4543\n",
      "[14/50][650/969]\tLoss: 0.5606\n",
      "[14/50][700/969]\tLoss: 0.5548\n",
      "[14/50][750/969]\tLoss: 0.6585\n",
      "[14/50][800/969]\tLoss: 0.4863\n",
      "[14/50][850/969]\tLoss: 0.5205\n",
      "[14/50][900/969]\tLoss: 0.4601\n",
      "[14/50][950/969]\tLoss: 0.5055\n",
      "Mean train error: 0.5241270089216873 \n",
      "Mean test error: 1.9231536251325694 \n",
      "\n",
      "[15/50][0/969]\tLoss: 0.4496\n",
      "[15/50][50/969]\tLoss: 0.5482\n",
      "[15/50][100/969]\tLoss: 0.4779\n",
      "[15/50][150/969]\tLoss: 0.4491\n",
      "[15/50][200/969]\tLoss: 0.4301\n",
      "[15/50][250/969]\tLoss: 0.5608\n",
      "[15/50][300/969]\tLoss: 0.4251\n",
      "[15/50][350/969]\tLoss: 0.4424\n",
      "[15/50][400/969]\tLoss: 0.5357\n",
      "[15/50][450/969]\tLoss: 0.5132\n",
      "[15/50][500/969]\tLoss: 0.5828\n",
      "[15/50][550/969]\tLoss: 0.6082\n",
      "[15/50][600/969]\tLoss: 0.6475\n",
      "[15/50][650/969]\tLoss: 0.6160\n",
      "[15/50][700/969]\tLoss: 0.5556\n",
      "[15/50][750/969]\tLoss: 0.5069\n",
      "[15/50][800/969]\tLoss: 0.5165\n",
      "[15/50][850/969]\tLoss: 0.3961\n",
      "[15/50][900/969]\tLoss: 0.5818\n",
      "[15/50][950/969]\tLoss: 0.5138\n",
      "Mean train error: 0.522801679591395 \n",
      "Mean test error: 1.9397680160385533 \n",
      "\n",
      "[16/50][0/969]\tLoss: 0.5293\n",
      "[16/50][50/969]\tLoss: 0.6407\n",
      "[16/50][100/969]\tLoss: 0.5318\n",
      "[16/50][150/969]\tLoss: 0.3653\n",
      "[16/50][200/969]\tLoss: 0.5945\n",
      "[16/50][250/969]\tLoss: 0.4752\n",
      "[16/50][300/969]\tLoss: 0.5864\n",
      "[16/50][350/969]\tLoss: 0.4941\n",
      "[16/50][400/969]\tLoss: 0.5270\n",
      "[16/50][450/969]\tLoss: 0.5092\n",
      "[16/50][500/969]\tLoss: 0.5211\n",
      "[16/50][550/969]\tLoss: 0.4879\n",
      "[16/50][600/969]\tLoss: 0.3898\n",
      "[16/50][650/969]\tLoss: 0.6305\n",
      "[16/50][700/969]\tLoss: 0.4740\n",
      "[16/50][750/969]\tLoss: 0.5751\n",
      "[16/50][800/969]\tLoss: 0.5157\n",
      "[16/50][850/969]\tLoss: 0.4716\n",
      "[16/50][900/969]\tLoss: 0.6184\n",
      "[16/50][950/969]\tLoss: 0.5936\n",
      "Mean train error: 0.5214775471911081 \n",
      "Mean test error: 1.9335876316918692 \n",
      "\n",
      "[17/50][0/969]\tLoss: 0.6861\n",
      "[17/50][50/969]\tLoss: 0.5003\n",
      "[17/50][100/969]\tLoss: 0.4964\n",
      "[17/50][150/969]\tLoss: 0.4905\n",
      "[17/50][200/969]\tLoss: 0.4234\n",
      "[17/50][250/969]\tLoss: 0.5060\n",
      "[17/50][300/969]\tLoss: 0.4256\n",
      "[17/50][350/969]\tLoss: 0.4499\n",
      "[17/50][400/969]\tLoss: 0.4330\n",
      "[17/50][450/969]\tLoss: 0.5399\n",
      "[17/50][500/969]\tLoss: 0.6806\n",
      "[17/50][550/969]\tLoss: 0.5019\n",
      "[17/50][600/969]\tLoss: 0.4134\n",
      "[17/50][650/969]\tLoss: 0.4577\n",
      "[17/50][700/969]\tLoss: 0.4638\n",
      "[17/50][750/969]\tLoss: 0.4716\n",
      "[17/50][800/969]\tLoss: 0.5760\n",
      "[17/50][850/969]\tLoss: 0.6296\n",
      "[17/50][900/969]\tLoss: 0.4764\n",
      "[17/50][950/969]\tLoss: 0.6077\n",
      "Mean train error: 0.5204270956306449 \n",
      "Mean test error: 1.9710410904854971 \n",
      "\n",
      "[18/50][0/969]\tLoss: 0.4345\n",
      "[18/50][50/969]\tLoss: 0.5416\n",
      "[18/50][100/969]\tLoss: 0.4376\n",
      "[18/50][150/969]\tLoss: 0.5435\n",
      "[18/50][200/969]\tLoss: 0.4193\n",
      "[18/50][250/969]\tLoss: 0.4795\n",
      "[18/50][300/969]\tLoss: 0.5888\n",
      "[18/50][350/969]\tLoss: 0.4337\n",
      "[18/50][400/969]\tLoss: 0.4375\n",
      "[18/50][450/969]\tLoss: 0.4073\n",
      "[18/50][500/969]\tLoss: 0.4239\n",
      "[18/50][550/969]\tLoss: 0.5420\n",
      "[18/50][600/969]\tLoss: 0.4918\n",
      "[18/50][650/969]\tLoss: 0.3847\n",
      "[18/50][700/969]\tLoss: 0.4934\n",
      "[18/50][750/969]\tLoss: 0.6811\n",
      "[18/50][800/969]\tLoss: 0.3759\n",
      "[18/50][850/969]\tLoss: 0.4881\n",
      "[18/50][900/969]\tLoss: 0.4937\n",
      "[18/50][950/969]\tLoss: 0.4624\n",
      "Mean train error: 0.5194194853232547 \n",
      "Mean test error: 1.9242719876256202 \n",
      "\n",
      "[19/50][0/969]\tLoss: 0.4726\n",
      "[19/50][50/969]\tLoss: 0.5383\n",
      "[19/50][100/969]\tLoss: 0.5571\n",
      "[19/50][150/969]\tLoss: 0.5391\n",
      "[19/50][200/969]\tLoss: 0.4208\n",
      "[19/50][250/969]\tLoss: 0.9950\n",
      "[19/50][300/969]\tLoss: 0.4614\n",
      "[19/50][350/969]\tLoss: 0.5223\n",
      "[19/50][400/969]\tLoss: 0.6119\n",
      "[19/50][450/969]\tLoss: 0.5224\n",
      "[19/50][500/969]\tLoss: 0.4976\n",
      "[19/50][550/969]\tLoss: 0.4830\n",
      "[19/50][600/969]\tLoss: 0.4908\n",
      "[19/50][650/969]\tLoss: 0.5517\n",
      "[19/50][700/969]\tLoss: 0.4984\n",
      "[19/50][750/969]\tLoss: 0.3980\n",
      "[19/50][800/969]\tLoss: 0.5392\n",
      "[19/50][850/969]\tLoss: 0.6433\n",
      "[19/50][900/969]\tLoss: 0.3883\n",
      "[19/50][950/969]\tLoss: 0.5049\n",
      "Mean train error: 0.5185835064311314 \n",
      "Mean test error: 1.962421514670821 \n",
      "\n",
      "[20/50][0/969]\tLoss: 0.4568\n",
      "[20/50][50/969]\tLoss: 0.5313\n",
      "[20/50][100/969]\tLoss: 0.4751\n",
      "[20/50][150/969]\tLoss: 0.5647\n",
      "[20/50][200/969]\tLoss: 0.5950\n",
      "[20/50][250/969]\tLoss: 0.5279\n",
      "[20/50][300/969]\tLoss: 0.5330\n",
      "[20/50][350/969]\tLoss: 0.4092\n",
      "[20/50][400/969]\tLoss: 0.5964\n",
      "[20/50][450/969]\tLoss: 0.4137\n",
      "[20/50][500/969]\tLoss: 0.4924\n",
      "[20/50][550/969]\tLoss: 0.6129\n",
      "[20/50][600/969]\tLoss: 0.4915\n",
      "[20/50][650/969]\tLoss: 0.3815\n",
      "[20/50][700/969]\tLoss: 0.5349\n",
      "[20/50][750/969]\tLoss: 0.4663\n",
      "[20/50][800/969]\tLoss: 0.4574\n",
      "[20/50][850/969]\tLoss: 0.4363\n",
      "[20/50][900/969]\tLoss: 0.5228\n",
      "[20/50][950/969]\tLoss: 0.4477\n",
      "Mean train error: 0.5175150554155592 \n",
      "Mean test error: 1.9347609316852892 \n",
      "\n",
      "[21/50][0/969]\tLoss: 0.5466\n",
      "[21/50][50/969]\tLoss: 0.4869\n",
      "[21/50][100/969]\tLoss: 0.4036\n",
      "[21/50][150/969]\tLoss: 0.4032\n",
      "[21/50][200/969]\tLoss: 0.4793\n",
      "[21/50][250/969]\tLoss: 0.5274\n",
      "[21/50][300/969]\tLoss: 0.4938\n",
      "[21/50][350/969]\tLoss: 0.5053\n",
      "[21/50][400/969]\tLoss: 0.5404\n",
      "[21/50][450/969]\tLoss: 0.5059\n",
      "[21/50][500/969]\tLoss: 0.4293\n",
      "[21/50][550/969]\tLoss: 0.5329\n",
      "[21/50][600/969]\tLoss: 0.4754\n",
      "[21/50][650/969]\tLoss: 0.5621\n",
      "[21/50][700/969]\tLoss: 0.4825\n",
      "[21/50][750/969]\tLoss: 0.4418\n",
      "[21/50][800/969]\tLoss: 0.5357\n",
      "[21/50][850/969]\tLoss: 0.4762\n",
      "[21/50][900/969]\tLoss: 0.3862\n",
      "[21/50][950/969]\tLoss: 0.5900\n",
      "Mean train error: 0.5168606774916702 \n",
      "Mean test error: 1.9279398831126326 \n",
      "\n",
      "[22/50][0/969]\tLoss: 0.3966\n",
      "[22/50][50/969]\tLoss: 0.6105\n",
      "[22/50][100/969]\tLoss: 0.6355\n",
      "[22/50][150/969]\tLoss: 0.6242\n",
      "[22/50][200/969]\tLoss: 0.5898\n",
      "[22/50][250/969]\tLoss: 0.4537\n",
      "[22/50][300/969]\tLoss: 0.5703\n",
      "[22/50][350/969]\tLoss: 0.5489\n",
      "[22/50][400/969]\tLoss: 0.4454\n",
      "[22/50][450/969]\tLoss: 0.5871\n",
      "[22/50][500/969]\tLoss: 0.4557\n",
      "[22/50][550/969]\tLoss: 0.4814\n",
      "[22/50][600/969]\tLoss: 0.5159\n",
      "[22/50][650/969]\tLoss: 0.4709\n",
      "[22/50][700/969]\tLoss: 0.4804\n",
      "[22/50][750/969]\tLoss: 0.4763\n",
      "[22/50][800/969]\tLoss: 0.5071\n",
      "[22/50][850/969]\tLoss: 0.4241\n",
      "[22/50][900/969]\tLoss: 0.4562\n",
      "[22/50][950/969]\tLoss: 0.5256\n",
      "Mean train error: 0.5158646504896559 \n",
      "Mean test error: 1.942769797172241 \n",
      "\n",
      "[23/50][0/969]\tLoss: 0.6064\n",
      "[23/50][50/969]\tLoss: 0.5469\n",
      "[23/50][100/969]\tLoss: 0.4072\n",
      "[23/50][150/969]\tLoss: 0.4435\n",
      "[23/50][200/969]\tLoss: 0.4530\n",
      "[23/50][250/969]\tLoss: 0.5101\n",
      "[23/50][300/969]\tLoss: 0.4394\n",
      "[23/50][350/969]\tLoss: 0.4547\n",
      "[23/50][400/969]\tLoss: 0.4676\n",
      "[23/50][450/969]\tLoss: 0.5135\n",
      "[23/50][500/969]\tLoss: 0.4340\n",
      "[23/50][550/969]\tLoss: 0.3981\n",
      "[23/50][600/969]\tLoss: 0.4644\n",
      "[23/50][650/969]\tLoss: 0.5877\n",
      "[23/50][700/969]\tLoss: 0.4285\n",
      "[23/50][750/969]\tLoss: 0.5704\n",
      "[23/50][800/969]\tLoss: 0.4621\n",
      "[23/50][850/969]\tLoss: 0.5485\n",
      "[23/50][900/969]\tLoss: 0.5732\n",
      "[23/50][950/969]\tLoss: 0.5302\n",
      "Mean train error: 0.5150369899982417 \n",
      "Mean test error: 1.9375981251297043 \n",
      "\n",
      "[24/50][0/969]\tLoss: 0.6562\n",
      "[24/50][50/969]\tLoss: 0.4741\n",
      "[24/50][100/969]\tLoss: 0.6220\n",
      "[24/50][150/969]\tLoss: 0.4161\n",
      "[24/50][200/969]\tLoss: 0.5330\n",
      "[24/50][250/969]\tLoss: 0.4439\n",
      "[24/50][300/969]\tLoss: 0.5234\n",
      "[24/50][350/969]\tLoss: 0.4347\n",
      "[24/50][400/969]\tLoss: 0.5976\n",
      "[24/50][450/969]\tLoss: 0.6437\n",
      "[24/50][500/969]\tLoss: 0.5067\n",
      "[24/50][550/969]\tLoss: 0.5207\n",
      "[24/50][600/969]\tLoss: 0.5799\n",
      "[24/50][650/969]\tLoss: 0.4349\n",
      "[24/50][700/969]\tLoss: 0.4835\n",
      "[24/50][750/969]\tLoss: 0.4937\n",
      "[24/50][800/969]\tLoss: 0.5732\n"
     ]
    },
    {
     "name": "stdout",
     "output_type": "stream",
     "text": [
      "[24/50][850/969]\tLoss: 0.5436\n",
      "[24/50][900/969]\tLoss: 0.4420\n",
      "[24/50][950/969]\tLoss: 0.4202\n",
      "Mean train error: 0.5142975581500805 \n",
      "Mean test error: 1.9414508326366853 \n",
      "\n",
      "[25/50][0/969]\tLoss: 0.5973\n",
      "[25/50][50/969]\tLoss: 0.5300\n",
      "[25/50][100/969]\tLoss: 0.4959\n",
      "[25/50][150/969]\tLoss: 0.5267\n",
      "[25/50][200/969]\tLoss: 0.5591\n",
      "[25/50][250/969]\tLoss: 0.3843\n",
      "[25/50][300/969]\tLoss: 0.3698\n",
      "[25/50][350/969]\tLoss: 0.6295\n",
      "[25/50][400/969]\tLoss: 0.4145\n",
      "[25/50][450/969]\tLoss: 0.5656\n",
      "[25/50][500/969]\tLoss: 0.5240\n",
      "[25/50][550/969]\tLoss: 0.7251\n",
      "[25/50][600/969]\tLoss: 0.5056\n",
      "[25/50][650/969]\tLoss: 0.3689\n",
      "[25/50][700/969]\tLoss: 0.5964\n",
      "[25/50][750/969]\tLoss: 0.4741\n",
      "[25/50][800/969]\tLoss: 0.4895\n",
      "[25/50][850/969]\tLoss: 0.6912\n",
      "[25/50][900/969]\tLoss: 0.5485\n",
      "[25/50][950/969]\tLoss: 0.5867\n",
      "Mean train error: 0.5137724720685513 \n",
      "Mean test error: 1.9439690409913588 \n",
      "\n",
      "[26/50][0/969]\tLoss: 0.5439\n",
      "[26/50][50/969]\tLoss: 0.5309\n",
      "[26/50][100/969]\tLoss: 0.5106\n",
      "[26/50][150/969]\tLoss: 0.4702\n",
      "[26/50][200/969]\tLoss: 0.4394\n",
      "[26/50][250/969]\tLoss: 0.4292\n",
      "[26/50][300/969]\tLoss: 0.5124\n",
      "[26/50][350/969]\tLoss: 0.5605\n",
      "[26/50][400/969]\tLoss: 0.5955\n",
      "[26/50][450/969]\tLoss: 0.5265\n",
      "[26/50][500/969]\tLoss: 0.5520\n",
      "[26/50][550/969]\tLoss: 0.4501\n",
      "[26/50][600/969]\tLoss: 0.4050\n",
      "[26/50][650/969]\tLoss: 1.2142\n",
      "[26/50][700/969]\tLoss: 0.4084\n",
      "[26/50][750/969]\tLoss: 0.3947\n",
      "[26/50][800/969]\tLoss: 0.6228\n",
      "[26/50][850/969]\tLoss: 0.5189\n",
      "[26/50][900/969]\tLoss: 0.4379\n",
      "[26/50][950/969]\tLoss: 0.4356\n",
      "Mean train error: 0.5132311521074078 \n",
      "Mean test error: 1.9060075947428745 \n",
      "\n",
      "[27/50][0/969]\tLoss: 0.4828\n",
      "[27/50][50/969]\tLoss: 0.5760\n",
      "[27/50][100/969]\tLoss: 0.5156\n",
      "[27/50][150/969]\tLoss: 0.5048\n",
      "[27/50][200/969]\tLoss: 0.4112\n",
      "[27/50][250/969]\tLoss: 0.6000\n",
      "[27/50][300/969]\tLoss: 0.4151\n",
      "[27/50][350/969]\tLoss: 0.5247\n",
      "[27/50][400/969]\tLoss: 0.5097\n",
      "[27/50][450/969]\tLoss: 0.4499\n",
      "[27/50][500/969]\tLoss: 0.5543\n",
      "[27/50][550/969]\tLoss: 0.5224\n",
      "[27/50][600/969]\tLoss: 0.5392\n",
      "[27/50][650/969]\tLoss: 0.6400\n",
      "[27/50][700/969]\tLoss: 0.3918\n",
      "[27/50][750/969]\tLoss: 0.4840\n",
      "[27/50][800/969]\tLoss: 0.5338\n",
      "[27/50][850/969]\tLoss: 0.5552\n",
      "[27/50][900/969]\tLoss: 0.5208\n",
      "[27/50][950/969]\tLoss: 0.4049\n",
      "Mean train error: 0.5125815424484848 \n",
      "Mean test error: 1.9283375215684357 \n",
      "\n",
      "[28/50][0/969]\tLoss: 0.5626\n",
      "[28/50][50/969]\tLoss: 0.5757\n",
      "[28/50][100/969]\tLoss: 0.5207\n",
      "[28/50][150/969]\tLoss: 0.4336\n",
      "[28/50][200/969]\tLoss: 0.5353\n",
      "[28/50][250/969]\tLoss: 0.3985\n",
      "[28/50][300/969]\tLoss: 0.4904\n",
      "[28/50][350/969]\tLoss: 0.5049\n",
      "[28/50][400/969]\tLoss: 0.5322\n",
      "[28/50][450/969]\tLoss: 0.4356\n",
      "[28/50][500/969]\tLoss: 0.4935\n",
      "[28/50][550/969]\tLoss: 0.4993\n",
      "[28/50][600/969]\tLoss: 0.5370\n",
      "[28/50][650/969]\tLoss: 0.5918\n",
      "[28/50][700/969]\tLoss: 0.7855\n",
      "[28/50][750/969]\tLoss: 0.5904\n",
      "[28/50][800/969]\tLoss: 0.5509\n",
      "[28/50][850/969]\tLoss: 0.4346\n",
      "[28/50][900/969]\tLoss: 0.6462\n",
      "[28/50][950/969]\tLoss: 0.5276\n",
      "Mean train error: 0.5115731109226735 \n",
      "Mean test error: 1.9462771307040556 \n",
      "\n",
      "[29/50][0/969]\tLoss: 0.6524\n",
      "[29/50][50/969]\tLoss: 0.5852\n",
      "[29/50][100/969]\tLoss: 0.5442\n",
      "[29/50][150/969]\tLoss: 0.4618\n",
      "[29/50][200/969]\tLoss: 0.5433\n",
      "[29/50][250/969]\tLoss: 0.5468\n",
      "[29/50][300/969]\tLoss: 0.4615\n",
      "[29/50][350/969]\tLoss: 0.5469\n",
      "[29/50][400/969]\tLoss: 0.5147\n",
      "[29/50][450/969]\tLoss: 0.4028\n",
      "[29/50][500/969]\tLoss: 0.5121\n",
      "[29/50][550/969]\tLoss: 0.4744\n",
      "[29/50][600/969]\tLoss: 0.4732\n",
      "[29/50][650/969]\tLoss: 0.4832\n",
      "[29/50][700/969]\tLoss: 0.4447\n",
      "[29/50][750/969]\tLoss: 0.4280\n",
      "[29/50][800/969]\tLoss: 0.4793\n",
      "[29/50][850/969]\tLoss: 0.4489\n",
      "[29/50][900/969]\tLoss: 0.5247\n",
      "[29/50][950/969]\tLoss: 0.3677\n",
      "Mean train error: 0.5113986578022891 \n",
      "Mean test error: 1.9307537027157695 \n",
      "\n",
      "[30/50][0/969]\tLoss: 0.7581\n",
      "[30/50][50/969]\tLoss: 0.4456\n",
      "[30/50][100/969]\tLoss: 0.5783\n",
      "[30/50][150/969]\tLoss: 0.5339\n",
      "[30/50][200/969]\tLoss: 0.5127\n",
      "[30/50][250/969]\tLoss: 0.5881\n",
      "[30/50][300/969]\tLoss: 0.5047\n",
      "[30/50][350/969]\tLoss: 0.4633\n",
      "[30/50][400/969]\tLoss: 0.5157\n",
      "[30/50][450/969]\tLoss: 0.5574\n",
      "[30/50][500/969]\tLoss: 0.5729\n",
      "[30/50][550/969]\tLoss: 0.5905\n",
      "[30/50][600/969]\tLoss: 0.4597\n",
      "[30/50][650/969]\tLoss: 0.4684\n",
      "[30/50][700/969]\tLoss: 0.5299\n",
      "[30/50][750/969]\tLoss: 0.4631\n",
      "[30/50][800/969]\tLoss: 0.5455\n",
      "[30/50][850/969]\tLoss: 0.4336\n",
      "[30/50][900/969]\tLoss: 0.5334\n",
      "[30/50][950/969]\tLoss: 0.4383\n",
      "Mean train error: 0.5106878673916946 \n",
      "Mean test error: 1.9606464246017685 \n",
      "\n",
      "[31/50][0/969]\tLoss: 0.4145\n",
      "[31/50][50/969]\tLoss: 0.6175\n",
      "[31/50][100/969]\tLoss: 0.5361\n",
      "[31/50][150/969]\tLoss: 0.6048\n",
      "[31/50][200/969]\tLoss: 0.5180\n",
      "[31/50][250/969]\tLoss: 0.6391\n",
      "[31/50][300/969]\tLoss: 0.5378\n",
      "[31/50][350/969]\tLoss: 0.4654\n",
      "[31/50][400/969]\tLoss: 0.5715\n",
      "[31/50][450/969]\tLoss: 0.4883\n",
      "[31/50][500/969]\tLoss: 0.3945\n",
      "[31/50][550/969]\tLoss: 0.5007\n",
      "[31/50][600/969]\tLoss: 0.5019\n",
      "[31/50][650/969]\tLoss: 0.4601\n",
      "[31/50][700/969]\tLoss: 0.4252\n",
      "[31/50][750/969]\tLoss: 0.5078\n",
      "[31/50][800/969]\tLoss: 0.4719\n",
      "[31/50][850/969]\tLoss: 0.5274\n",
      "[31/50][900/969]\tLoss: 0.6454\n",
      "[31/50][950/969]\tLoss: 0.4854\n",
      "Mean train error: 0.5103438828534024 \n",
      "Mean test error: 1.9453482921765408 \n",
      "\n",
      "[32/50][0/969]\tLoss: 0.5667\n",
      "[32/50][50/969]\tLoss: 0.8494\n",
      "[32/50][100/969]\tLoss: 0.4057\n",
      "[32/50][150/969]\tLoss: 0.5908\n",
      "[32/50][200/969]\tLoss: 0.5030\n",
      "[32/50][250/969]\tLoss: 0.5293\n",
      "[32/50][300/969]\tLoss: 0.5330\n",
      "[32/50][350/969]\tLoss: 0.5115\n",
      "[32/50][400/969]\tLoss: 0.5322\n",
      "[32/50][450/969]\tLoss: 0.4754\n",
      "[32/50][500/969]\tLoss: 0.5004\n",
      "[32/50][550/969]\tLoss: 0.5135\n",
      "[32/50][600/969]\tLoss: 0.5455\n",
      "[32/50][650/969]\tLoss: 0.4915\n",
      "[32/50][700/969]\tLoss: 0.5980\n",
      "[32/50][750/969]\tLoss: 0.5408\n",
      "[32/50][800/969]\tLoss: 0.4885\n",
      "[32/50][850/969]\tLoss: 0.5253\n",
      "[32/50][900/969]\tLoss: 0.5567\n",
      "[32/50][950/969]\tLoss: 0.5534\n",
      "Mean train error: 0.5097559512930915 \n",
      "Mean test error: 1.921669386715751 \n",
      "\n",
      "[33/50][0/969]\tLoss: 0.4075\n",
      "[33/50][50/969]\tLoss: 0.4791\n",
      "[33/50][100/969]\tLoss: 0.4917\n",
      "[33/50][150/969]\tLoss: 0.5224\n",
      "[33/50][200/969]\tLoss: 0.3867\n",
      "[33/50][250/969]\tLoss: 0.4893\n",
      "[33/50][300/969]\tLoss: 0.5043\n",
      "[33/50][350/969]\tLoss: 0.6198\n",
      "[33/50][400/969]\tLoss: 0.4132\n",
      "[33/50][450/969]\tLoss: 0.5201\n",
      "[33/50][500/969]\tLoss: 0.7027\n",
      "[33/50][550/969]\tLoss: 0.5745\n",
      "[33/50][600/969]\tLoss: 0.5223\n",
      "[33/50][650/969]\tLoss: 0.4134\n",
      "[33/50][700/969]\tLoss: 0.6778\n",
      "[33/50][750/969]\tLoss: 0.5556\n",
      "[33/50][800/969]\tLoss: 0.4289\n",
      "[33/50][850/969]\tLoss: 0.4812\n",
      "[33/50][900/969]\tLoss: 0.6039\n",
      "[33/50][950/969]\tLoss: 0.4765\n",
      "Mean train error: 0.5089720783401999 \n",
      "Mean test error: 1.928671410183832 \n",
      "\n",
      "[34/50][0/969]\tLoss: 0.5109\n",
      "[34/50][50/969]\tLoss: 0.4520\n",
      "[34/50][100/969]\tLoss: 0.6087\n",
      "[34/50][150/969]\tLoss: 0.5407\n",
      "[34/50][200/969]\tLoss: 0.5333\n",
      "[34/50][250/969]\tLoss: 0.5517\n",
      "[34/50][300/969]\tLoss: 0.6798\n",
      "[34/50][350/969]\tLoss: 0.4256\n",
      "[34/50][400/969]\tLoss: 0.4691\n",
      "[34/50][450/969]\tLoss: 0.4339\n",
      "[34/50][500/969]\tLoss: 0.4811\n",
      "[34/50][550/969]\tLoss: 0.5712\n",
      "[34/50][600/969]\tLoss: 0.6312\n",
      "[34/50][650/969]\tLoss: 0.4367\n",
      "[34/50][700/969]\tLoss: 0.4564\n",
      "[34/50][750/969]\tLoss: 0.5197\n",
      "[34/50][800/969]\tLoss: 0.5904\n",
      "[34/50][850/969]\tLoss: 0.4830\n",
      "[34/50][900/969]\tLoss: 0.6443\n",
      "[34/50][950/969]\tLoss: 0.4637\n",
      "Mean train error: 0.5085683641701891 \n",
      "Mean test error: 1.9511500275423006 \n",
      "\n",
      "[35/50][0/969]\tLoss: 0.4189\n",
      "[35/50][50/969]\tLoss: 0.6450\n",
      "[35/50][100/969]\tLoss: 0.5048\n",
      "[35/50][150/969]\tLoss: 0.4618\n",
      "[35/50][200/969]\tLoss: 0.4876\n",
      "[35/50][250/969]\tLoss: 0.6414\n",
      "[35/50][300/969]\tLoss: 0.4382\n",
      "[35/50][350/969]\tLoss: 0.4971\n",
      "[35/50][400/969]\tLoss: 0.4576\n",
      "[35/50][450/969]\tLoss: 0.5310\n",
      "[35/50][500/969]\tLoss: 0.6310\n",
      "[35/50][550/969]\tLoss: 0.4551\n",
      "[35/50][600/969]\tLoss: 0.5807\n",
      "[35/50][650/969]\tLoss: 0.5100\n",
      "[35/50][700/969]\tLoss: 0.3925\n",
      "[35/50][750/969]\tLoss: 0.4366\n",
      "[35/50][800/969]\tLoss: 0.6154\n",
      "[35/50][850/969]\tLoss: 0.5143\n",
      "[35/50][900/969]\tLoss: 0.4277\n",
      "[35/50][950/969]\tLoss: 0.5114\n",
      "Mean train error: 0.508224016560507 \n",
      "Mean test error: 1.9696962175608648 \n",
      "\n",
      "[36/50][0/969]\tLoss: 0.6252\n",
      "[36/50][50/969]\tLoss: 0.5152\n",
      "[36/50][100/969]\tLoss: 0.5432\n",
      "[36/50][150/969]\tLoss: 0.4348\n",
      "[36/50][200/969]\tLoss: 0.5009\n",
      "[36/50][250/969]\tLoss: 0.5559\n",
      "[36/50][300/969]\tLoss: 0.4518\n",
      "[36/50][350/969]\tLoss: 0.4363\n",
      "[36/50][400/969]\tLoss: 0.4903\n",
      "[36/50][450/969]\tLoss: 0.4144\n",
      "[36/50][500/969]\tLoss: 0.5118\n",
      "[36/50][550/969]\tLoss: 0.5084\n",
      "[36/50][600/969]\tLoss: 0.5323\n",
      "[36/50][650/969]\tLoss: 0.4432\n",
      "[36/50][700/969]\tLoss: 0.4325\n",
      "[36/50][750/969]\tLoss: 0.4711\n",
      "[36/50][800/969]\tLoss: 0.4824\n",
      "[36/50][850/969]\tLoss: 0.4380\n",
      "[36/50][900/969]\tLoss: 0.5866\n",
      "[36/50][950/969]\tLoss: 0.5834\n",
      "Mean train error: 0.5076856325515746 \n",
      "Mean test error: 1.9427452388146276 \n",
      "\n"
     ]
    },
    {
     "name": "stdout",
     "output_type": "stream",
     "text": [
      "[37/50][0/969]\tLoss: 0.5158\n",
      "[37/50][50/969]\tLoss: 0.5627\n",
      "[37/50][100/969]\tLoss: 0.4791\n",
      "[37/50][150/969]\tLoss: 0.5202\n",
      "[37/50][200/969]\tLoss: 0.5921\n",
      "[37/50][250/969]\tLoss: 0.3906\n",
      "[37/50][300/969]\tLoss: 0.4936\n",
      "[37/50][350/969]\tLoss: 0.5160\n",
      "[37/50][400/969]\tLoss: 0.4820\n",
      "[37/50][450/969]\tLoss: 0.5189\n",
      "[37/50][500/969]\tLoss: 0.4830\n",
      "[37/50][550/969]\tLoss: 0.6056\n",
      "[37/50][600/969]\tLoss: 0.6660\n",
      "[37/50][650/969]\tLoss: 0.4162\n",
      "[37/50][700/969]\tLoss: 0.5708\n",
      "[37/50][750/969]\tLoss: 0.5104\n",
      "[37/50][800/969]\tLoss: 0.4562\n",
      "[37/50][850/969]\tLoss: 0.5084\n",
      "[37/50][900/969]\tLoss: 0.4723\n",
      "[37/50][950/969]\tLoss: 0.4878\n",
      "Mean train error: 0.5071383755249218 \n",
      "Mean test error: 1.951965421660561 \n",
      "\n",
      "[38/50][0/969]\tLoss: 0.5892\n",
      "[38/50][50/969]\tLoss: 0.4250\n",
      "[38/50][100/969]\tLoss: 0.5967\n",
      "[38/50][150/969]\tLoss: 0.6158\n",
      "[38/50][200/969]\tLoss: 0.4387\n",
      "[38/50][250/969]\tLoss: 0.4181\n",
      "[38/50][300/969]\tLoss: 0.4683\n",
      "[38/50][350/969]\tLoss: 0.5562\n",
      "[38/50][400/969]\tLoss: 0.6354\n",
      "[38/50][450/969]\tLoss: 0.5194\n",
      "[38/50][500/969]\tLoss: 0.4485\n",
      "[38/50][550/969]\tLoss: 0.4235\n",
      "[38/50][600/969]\tLoss: 0.5287\n",
      "[38/50][650/969]\tLoss: 0.4857\n",
      "[38/50][700/969]\tLoss: 0.4008\n",
      "[38/50][750/969]\tLoss: 0.6036\n",
      "[38/50][800/969]\tLoss: 0.5312\n",
      "[38/50][850/969]\tLoss: 0.4279\n",
      "[38/50][900/969]\tLoss: 0.4213\n",
      "[38/50][950/969]\tLoss: 0.4702\n",
      "Mean train error: 0.5070890312008953 \n",
      "Mean test error: 1.9530099653654038 \n",
      "\n",
      "[39/50][0/969]\tLoss: 0.5032\n",
      "[39/50][50/969]\tLoss: 0.4434\n",
      "[39/50][100/969]\tLoss: 0.5268\n",
      "[39/50][150/969]\tLoss: 0.4753\n",
      "[39/50][200/969]\tLoss: 0.5153\n",
      "[39/50][250/969]\tLoss: 0.4978\n",
      "[39/50][300/969]\tLoss: 0.5139\n",
      "[39/50][350/969]\tLoss: 0.6370\n",
      "[39/50][400/969]\tLoss: 0.6074\n",
      "[39/50][450/969]\tLoss: 0.4846\n",
      "[39/50][500/969]\tLoss: 0.5482\n",
      "[39/50][550/969]\tLoss: 0.5250\n",
      "[39/50][600/969]\tLoss: 0.5923\n",
      "[39/50][650/969]\tLoss: 0.4746\n",
      "[39/50][700/969]\tLoss: 0.6028\n",
      "[39/50][750/969]\tLoss: 0.8103\n",
      "[39/50][800/969]\tLoss: 0.4547\n",
      "[39/50][850/969]\tLoss: 0.5481\n",
      "[39/50][900/969]\tLoss: 0.5886\n",
      "[39/50][950/969]\tLoss: 0.7124\n",
      "Mean train error: 0.5064901380679004 \n",
      "Mean test error: 1.9451289669621776 \n",
      "\n",
      "[40/50][0/969]\tLoss: 0.5312\n",
      "[40/50][50/969]\tLoss: 0.5256\n",
      "[40/50][100/969]\tLoss: 0.6292\n",
      "[40/50][150/969]\tLoss: 0.4615\n",
      "[40/50][200/969]\tLoss: 0.5138\n",
      "[40/50][250/969]\tLoss: 0.5000\n",
      "[40/50][300/969]\tLoss: 0.4560\n",
      "[40/50][350/969]\tLoss: 0.4590\n",
      "[40/50][400/969]\tLoss: 0.4708\n",
      "[40/50][450/969]\tLoss: 0.4718\n",
      "[40/50][500/969]\tLoss: 0.4543\n",
      "[40/50][550/969]\tLoss: 0.5662\n",
      "[40/50][600/969]\tLoss: 0.4409\n",
      "[40/50][650/969]\tLoss: 0.4874\n",
      "[40/50][700/969]\tLoss: 0.5134\n",
      "[40/50][750/969]\tLoss: 0.5171\n",
      "[40/50][800/969]\tLoss: 0.4294\n",
      "[40/50][850/969]\tLoss: 0.5207\n",
      "[40/50][900/969]\tLoss: 0.5053\n",
      "[40/50][950/969]\tLoss: 0.4872\n",
      "Mean train error: 0.5060719599134864 \n",
      "Mean test error: 1.9429040384627594 \n",
      "\n",
      "[41/50][0/969]\tLoss: 0.5178\n",
      "[41/50][50/969]\tLoss: 0.4745\n",
      "[41/50][100/969]\tLoss: 0.4777\n",
      "[41/50][150/969]\tLoss: 0.3833\n",
      "[41/50][200/969]\tLoss: 0.4931\n",
      "[41/50][250/969]\tLoss: 0.5189\n",
      "[41/50][300/969]\tLoss: 0.5559\n",
      "[41/50][350/969]\tLoss: 0.5211\n",
      "[41/50][400/969]\tLoss: 0.6250\n",
      "[41/50][450/969]\tLoss: 0.5182\n",
      "[41/50][500/969]\tLoss: 0.5197\n",
      "[41/50][550/969]\tLoss: 0.4924\n",
      "[41/50][600/969]\tLoss: 0.5391\n",
      "[41/50][650/969]\tLoss: 0.5180\n",
      "[41/50][700/969]\tLoss: 0.4719\n",
      "[41/50][750/969]\tLoss: 0.6754\n",
      "[41/50][800/969]\tLoss: 0.5313\n",
      "[41/50][850/969]\tLoss: 0.4600\n",
      "[41/50][900/969]\tLoss: 0.5745\n",
      "[41/50][950/969]\tLoss: 0.4839\n",
      "Mean train error: 0.505570614294905 \n",
      "Mean test error: 1.925772583200807 \n",
      "\n",
      "[42/50][0/969]\tLoss: 0.4891\n",
      "[42/50][50/969]\tLoss: 0.5109\n",
      "[42/50][100/969]\tLoss: 0.4686\n",
      "[42/50][150/969]\tLoss: 0.6523\n",
      "[42/50][200/969]\tLoss: 0.7768\n",
      "[42/50][250/969]\tLoss: 0.4045\n",
      "[42/50][300/969]\tLoss: 0.5496\n",
      "[42/50][350/969]\tLoss: 0.4626\n",
      "[42/50][400/969]\tLoss: 0.4529\n",
      "[42/50][450/969]\tLoss: 0.4679\n",
      "[42/50][500/969]\tLoss: 0.4577\n",
      "[42/50][550/969]\tLoss: 0.5280\n",
      "[42/50][600/969]\tLoss: 0.5347\n",
      "[42/50][650/969]\tLoss: 0.3813\n",
      "[42/50][700/969]\tLoss: 0.5445\n",
      "[42/50][750/969]\tLoss: 0.5308\n",
      "[42/50][800/969]\tLoss: 0.4068\n",
      "[42/50][850/969]\tLoss: 0.5073\n",
      "[42/50][900/969]\tLoss: 0.4628\n",
      "[42/50][950/969]\tLoss: 0.5796\n",
      "Mean train error: 0.5051498396320233 \n",
      "Mean test error: 1.949298091115058 \n",
      "\n",
      "[43/50][0/969]\tLoss: 0.4927\n",
      "[43/50][50/969]\tLoss: 0.4973\n",
      "[43/50][100/969]\tLoss: 0.4270\n",
      "[43/50][150/969]\tLoss: 0.4272\n",
      "[43/50][200/969]\tLoss: 0.6225\n",
      "[43/50][250/969]\tLoss: 0.4940\n",
      "[43/50][300/969]\tLoss: 0.4631\n",
      "[43/50][350/969]\tLoss: 0.8539\n",
      "[43/50][400/969]\tLoss: 0.5986\n",
      "[43/50][450/969]\tLoss: 0.4223\n",
      "[43/50][500/969]\tLoss: 0.4671\n",
      "[43/50][550/969]\tLoss: 0.4941\n",
      "[43/50][600/969]\tLoss: 0.4048\n",
      "[43/50][650/969]\tLoss: 0.3811\n",
      "[43/50][700/969]\tLoss: 0.5986\n",
      "[43/50][750/969]\tLoss: 0.4046\n",
      "[43/50][800/969]\tLoss: 0.4372\n",
      "[43/50][850/969]\tLoss: 0.4734\n",
      "[43/50][900/969]\tLoss: 0.4898\n",
      "[43/50][950/969]\tLoss: 0.6210\n",
      "Mean train error: 0.5050057653503346 \n",
      "Mean test error: 1.9366670921139875 \n",
      "\n",
      "[44/50][0/969]\tLoss: 0.4182\n",
      "[44/50][50/969]\tLoss: 0.4727\n",
      "[44/50][100/969]\tLoss: 0.4298\n",
      "[44/50][150/969]\tLoss: 0.5134\n",
      "[44/50][200/969]\tLoss: 0.5208\n",
      "[44/50][250/969]\tLoss: 0.4869\n",
      "[44/50][300/969]\tLoss: 0.6418\n",
      "[44/50][350/969]\tLoss: 0.4146\n",
      "[44/50][400/969]\tLoss: 0.4455\n",
      "[44/50][450/969]\tLoss: 0.3443\n",
      "[44/50][500/969]\tLoss: 0.5354\n",
      "[44/50][550/969]\tLoss: 0.4742\n",
      "[44/50][600/969]\tLoss: 0.4320\n",
      "[44/50][650/969]\tLoss: 0.4465\n",
      "[44/50][700/969]\tLoss: 0.5640\n",
      "[44/50][750/969]\tLoss: 0.4977\n",
      "[44/50][800/969]\tLoss: 0.5075\n",
      "[44/50][850/969]\tLoss: 0.4428\n",
      "[44/50][900/969]\tLoss: 0.4716\n",
      "[44/50][950/969]\tLoss: 0.5738\n",
      "Mean train error: 0.5046888910689595 \n",
      "Mean test error: 1.9208509725446656 \n",
      "\n",
      "[45/50][0/969]\tLoss: 0.5089\n",
      "[45/50][50/969]\tLoss: 0.7873\n",
      "[45/50][100/969]\tLoss: 0.3913\n",
      "[45/50][150/969]\tLoss: 0.6373\n",
      "[45/50][200/969]\tLoss: 0.5599\n",
      "[45/50][250/969]\tLoss: 0.4401\n",
      "[45/50][300/969]\tLoss: 0.5532\n",
      "[45/50][350/969]\tLoss: 0.6320\n",
      "[45/50][400/969]\tLoss: 0.5730\n",
      "[45/50][450/969]\tLoss: 0.5447\n",
      "[45/50][500/969]\tLoss: 0.5325\n",
      "[45/50][550/969]\tLoss: 0.3826\n",
      "[45/50][600/969]\tLoss: 0.5830\n",
      "[45/50][650/969]\tLoss: 0.4530\n",
      "[45/50][700/969]\tLoss: 0.5121\n",
      "[45/50][750/969]\tLoss: 0.5596\n",
      "[45/50][800/969]\tLoss: 0.4494\n",
      "[45/50][850/969]\tLoss: 0.5144\n",
      "[45/50][900/969]\tLoss: 0.4376\n",
      "[45/50][950/969]\tLoss: 0.4898\n",
      "Mean train error: 0.5042811048188981 \n",
      "Mean test error: 1.94767560097239 \n",
      "\n",
      "[46/50][0/969]\tLoss: 0.4305\n",
      "[46/50][50/969]\tLoss: 0.5477\n",
      "[46/50][100/969]\tLoss: 0.3727\n",
      "[46/50][150/969]\tLoss: 0.4512\n",
      "[46/50][200/969]\tLoss: 0.5391\n",
      "[46/50][250/969]\tLoss: 0.4334\n",
      "[46/50][300/969]\tLoss: 0.4542\n",
      "[46/50][350/969]\tLoss: 0.4508\n",
      "[46/50][400/969]\tLoss: 0.5522\n",
      "[46/50][450/969]\tLoss: 0.5269\n",
      "[46/50][500/969]\tLoss: 0.3787\n",
      "[46/50][550/969]\tLoss: 0.4864\n",
      "[46/50][600/969]\tLoss: 0.5183\n",
      "[46/50][650/969]\tLoss: 0.5146\n",
      "[46/50][700/969]\tLoss: 0.4791\n",
      "[46/50][750/969]\tLoss: 0.4815\n",
      "[46/50][800/969]\tLoss: 0.6704\n",
      "[46/50][850/969]\tLoss: 0.4728\n",
      "[46/50][900/969]\tLoss: 0.5595\n",
      "[46/50][950/969]\tLoss: 0.4268\n",
      "Mean train error: 0.5038469207217963 \n",
      "Mean test error: 1.9286736509952802 \n",
      "\n",
      "[47/50][0/969]\tLoss: 0.4785\n",
      "[47/50][50/969]\tLoss: 0.5391\n",
      "[47/50][100/969]\tLoss: 0.3920\n",
      "[47/50][150/969]\tLoss: 0.5825\n",
      "[47/50][200/969]\tLoss: 0.5150\n",
      "[47/50][250/969]\tLoss: 0.6245\n",
      "[47/50][300/969]\tLoss: 0.5734\n",
      "[47/50][350/969]\tLoss: 0.5044\n",
      "[47/50][400/969]\tLoss: 0.5280\n",
      "[47/50][450/969]\tLoss: 0.4063\n",
      "[47/50][500/969]\tLoss: 0.5649\n",
      "[47/50][550/969]\tLoss: 0.5423\n",
      "[47/50][600/969]\tLoss: 0.5326\n",
      "[47/50][650/969]\tLoss: 0.5423\n",
      "[47/50][700/969]\tLoss: 0.4762\n",
      "[47/50][750/969]\tLoss: 0.3880\n",
      "[47/50][800/969]\tLoss: 0.4809\n",
      "[47/50][850/969]\tLoss: 0.5026\n",
      "[47/50][900/969]\tLoss: 0.5398\n",
      "[47/50][950/969]\tLoss: 0.5401\n",
      "Mean train error: 0.5038000689586223 \n",
      "Mean test error: 1.9483435673627154 \n",
      "\n",
      "[48/50][0/969]\tLoss: 0.5243\n",
      "[48/50][50/969]\tLoss: 0.4143\n",
      "[48/50][100/969]\tLoss: 0.4749\n",
      "[48/50][150/969]\tLoss: 0.4464\n",
      "[48/50][200/969]\tLoss: 0.6608\n",
      "[48/50][250/969]\tLoss: 0.6156\n",
      "[48/50][300/969]\tLoss: 0.4457\n",
      "[48/50][350/969]\tLoss: 0.3827\n",
      "[48/50][400/969]\tLoss: 0.4504\n",
      "[48/50][450/969]\tLoss: 0.4078\n",
      "[48/50][500/969]\tLoss: 0.4210\n",
      "[48/50][550/969]\tLoss: 0.4723\n",
      "[48/50][600/969]\tLoss: 0.4927\n",
      "[48/50][650/969]\tLoss: 0.5294\n",
      "[48/50][700/969]\tLoss: 0.6813\n",
      "[48/50][750/969]\tLoss: 0.5002\n",
      "[48/50][800/969]\tLoss: 0.4890\n",
      "[48/50][850/969]\tLoss: 0.4928\n",
      "[48/50][900/969]\tLoss: 0.4603\n",
      "[48/50][950/969]\tLoss: 0.6142\n",
      "Mean train error: 0.5033217896466311 \n",
      "Mean test error: 1.9346216928167514 \n",
      "\n",
      "[49/50][0/969]\tLoss: 0.5281\n",
      "[49/50][50/969]\tLoss: 0.5092\n",
      "[49/50][100/969]\tLoss: 0.4568\n",
      "[49/50][150/969]\tLoss: 0.7005\n",
      "[49/50][200/969]\tLoss: 0.5318\n"
     ]
    },
    {
     "name": "stdout",
     "output_type": "stream",
     "text": [
      "[49/50][250/969]\tLoss: 0.6471\n",
      "[49/50][300/969]\tLoss: 0.5406\n",
      "[49/50][350/969]\tLoss: 0.5765\n",
      "[49/50][400/969]\tLoss: 0.5368\n",
      "[49/50][450/969]\tLoss: 0.4917\n",
      "[49/50][500/969]\tLoss: 0.3962\n",
      "[49/50][550/969]\tLoss: 0.5067\n",
      "[49/50][600/969]\tLoss: 0.5136\n",
      "[49/50][650/969]\tLoss: 0.4989\n",
      "[49/50][700/969]\tLoss: 0.4119\n",
      "[49/50][750/969]\tLoss: 0.4671\n",
      "[49/50][800/969]\tLoss: 0.5120\n",
      "[49/50][850/969]\tLoss: 0.4254\n",
      "[49/50][900/969]\tLoss: 0.4214\n",
      "[49/50][950/969]\tLoss: 0.4154\n",
      "Mean train error: 0.5029192740556316 \n",
      "Mean test error: 1.9604436293647105 \n",
      "\n"
     ]
    }
   ],
   "source": [
    "# Train\n",
    "train_losses = []\n",
    "test_losses = []\n",
    "\n",
    "print(\"Starting Training Loop...\")\n",
    "# For each epoch\n",
    "for epoch in range(num_epochs):\n",
    "    errs = []\n",
    "    test_errs = []\n",
    "    # For each batch in the dataloader\n",
    "    for i, data in enumerate(dataloader, 0):\n",
    "        stft2cqt.zero_grad()\n",
    "        # Format batch\n",
    "        stft = data[0].to(device)\n",
    "        cqt = data[1].to(device)\n",
    "        # Forward pass\n",
    "        output = stft2cqt(stft)\n",
    "        # Calculate loss\n",
    "        err = mseLoss(cqt, output)\n",
    "        # Calculate gradients for D in backward pass\n",
    "        err.backward()\n",
    "        # Update D\n",
    "        optimizer_stft2cqt.step()\n",
    "        \n",
    "        if i % 50 == 0:\n",
    "            print('[%d/%d][%d/%d]\\tLoss: %.4f'\n",
    "                  % (epoch, num_epochs, i, len(dataloader), err.item()))\n",
    "            \n",
    "        # Save Losses for plotting later\n",
    "        errs.append(err.item())\n",
    "        \n",
    "    with torch.no_grad():\n",
    "        for j, test in enumerate(testloader, 0):\n",
    "            stft_test = test[0].to(device)\n",
    "            cqt_test = test[1].to(device)\n",
    "            output_test = stft2cqt(stft_test)\n",
    "            err_test = mseLoss(cqt_test, output_test)\n",
    "            test_errs.append(err_test.item())\n",
    "\n",
    "    train_losses.append(np.mean(errs))\n",
    "    test_losses.append(np.mean(test_errs))\n",
    "    print(\"Mean train error: {} \\nMean test error: {} \\n\".format(np.mean(errs), np.mean(test_errs)))"
   ]
  },
  {
   "cell_type": "code",
   "execution_count": 80,
   "metadata": {
    "ExecuteTime": {
     "end_time": "2019-04-18T19:27:59.206318Z",
     "start_time": "2019-04-18T19:27:59.084095Z"
    }
   },
   "outputs": [
    {
     "data": {
      "image/png": "[encoded data removed]",
      "text/plain": [
       "<Figure size 720x360 with 1 Axes>"
      ]
     },
     "metadata": {
      "needs_background": "light"
     },
     "output_type": "display_data"
    }
   ],
   "source": [
    "# Results\n",
    "plt.figure(figsize=(10,5))\n",
    "plt.title(\"Train Loss\")\n",
    "plt.plot(train_losses,label=\"TR\")\n",
    "plt.xlabel(\"iterations\")\n",
    "plt.ylabel(\"Loss\")\n",
    "plt.legend()\n",
    "plt.show()"
   ]
  },
  {
   "cell_type": "code",
   "execution_count": 81,
   "metadata": {
    "ExecuteTime": {
     "end_time": "2019-04-18T19:27:59.330138Z",
     "start_time": "2019-04-18T19:27:59.231384Z"
    }
   },
   "outputs": [
    {
     "data": {
      "image/png": "[encoded data removed]",
      "text/plain": [
       "<Figure size 720x360 with 1 Axes>"
      ]
     },
     "metadata": {
      "needs_background": "light"
     },
     "output_type": "display_data"
    }
   ],
   "source": [
    "# Results\n",
    "plt.figure(figsize=(10,5))\n",
    "plt.title(\"Test Loss\")\n",
    "plt.plot(test_losses,label=\"TS\")\n",
    "plt.xlabel(\"iterations\")\n",
    "plt.ylabel(\"Loss\")\n",
    "plt.legend()\n",
    "plt.show()"
   ]
  },
  {
   "cell_type": "code",
   "execution_count": 124,
   "metadata": {
    "ExecuteTime": {
     "end_time": "2019-04-18T19:59:19.935709Z",
     "start_time": "2019-04-18T19:59:19.825119Z"
    }
   },
   "outputs": [
    {
     "name": "stderr",
     "output_type": "stream",
     "text": [
      "/media/alex/Data/alex/anaconda3/lib/python3.6/site-packages/torch/nn/functional.py:1320: UserWarning: nn.functional.tanh is deprecated. Use torch.tanh instead.\n",
      "  warnings.warn(\"nn.functional.tanh is deprecated. Use torch.tanh instead.\")\n"
     ]
    }
   ],
   "source": [
    "stft2cqt.eval()\n",
    "xx = next(iter(dataloader))\n",
    "ss = xx[0][0].reshape(1,1025)\n",
    "cc = xx[1][0]\n",
    "output = stft2cqt(ss)"
   ]
  },
  {
   "cell_type": "code",
   "execution_count": 127,
   "metadata": {
    "ExecuteTime": {
     "end_time": "2019-04-18T19:59:40.662508Z",
     "start_time": "2019-04-18T19:59:40.655040Z"
    }
   },
   "outputs": [
    {
     "data": {
      "text/plain": [
       "torch.Size([108])"
      ]
     },
     "execution_count": 127,
     "metadata": {},
     "output_type": "execute_result"
    }
   ],
   "source": [
    "output[0].shape"
   ]
  },
  {
   "cell_type": "code",
   "execution_count": 126,
   "metadata": {
    "ExecuteTime": {
     "end_time": "2019-04-18T19:59:28.760920Z",
     "start_time": "2019-04-18T19:59:28.748837Z"
    }
   },
   "outputs": [
    {
     "data": {
      "text/plain": [
       "(torch.Size([1, 1025]), torch.Size([108]))"
      ]
     },
     "execution_count": 126,
     "metadata": {},
     "output_type": "execute_result"
    }
   ],
   "source": [
    "ss.shape, cc.shape"
   ]
  },
  {
   "cell_type": "code",
   "execution_count": 128,
   "metadata": {
    "ExecuteTime": {
     "end_time": "2019-04-18T19:59:51.985977Z",
     "start_time": "2019-04-18T19:59:51.980016Z"
    }
   },
   "outputs": [
    {
     "data": {
      "text/plain": [
       "tensor([-0.3264, -0.1713, -0.3305, -0.4712, -0.5507, -0.6807, -0.6476, -0.5825,\n",
       "        -0.4488, -1.0285, -1.5620, -0.7155, -0.2959,  0.5470,  0.9537,  0.5396,\n",
       "        -0.0198, -0.1128, -0.2993, -0.4801, -0.3946, -1.5413, -2.4431, -2.0730,\n",
       "        -0.2938, -0.1902, -0.3856, -0.7801, -1.2727, -1.7023,  0.9222, -1.3332,\n",
       "        -3.7709, -1.8980, -1.6796, -0.2380,  0.3142, -1.5018, -1.7655, -0.4585,\n",
       "         0.2391, -0.1481, -0.1291,  0.8007,  0.8426, -0.5421, -4.1719, -2.9010,\n",
       "        -0.5834, -0.8914, -0.2784, -0.0721,  0.2244, -0.8460, -1.5467, -0.8192,\n",
       "        -0.7167, -0.0227, -0.8621, -1.3198, -0.8633,  0.0734, -0.8460, -0.6042,\n",
       "        -0.6170, -0.6184, -0.1930, -0.4588, -0.6372, -0.3641, -0.2616, -0.7527,\n",
       "        -0.5813, -3.2294, -2.7605, -1.4539, -1.0728, -1.2412, -2.1987, -1.3150,\n",
       "        -1.1020, -1.0145, -0.3366, -0.8758, -1.4907, -1.0858, -0.6716, -1.0328,\n",
       "        -0.6130,  0.0923, -0.7737, -1.7136, -1.9344, -0.6557, -0.6002, -1.4547,\n",
       "        -1.2782, -1.1664, -0.7761, -1.3346, -2.0604, -1.4383, -1.1250, -0.8404,\n",
       "        -0.9136, -1.0844, -0.9240, -1.1430], dtype=torch.float64,\n",
       "       grad_fn=<SubBackward0>)"
      ]
     },
     "execution_count": 128,
     "metadata": {},
     "output_type": "execute_result"
    }
   ],
   "source": [
    "output[0]-cc"
   ]
  },
  {
   "cell_type": "code",
   "execution_count": 129,
   "metadata": {
    "ExecuteTime": {
     "end_time": "2019-04-18T20:00:04.252525Z",
     "start_time": "2019-04-18T20:00:04.244999Z"
    }
   },
   "outputs": [
    {
     "data": {
      "text/plain": [
       "tensor([-0.7149, -0.5911, -0.6414, -0.6991, -0.6426, -0.6556, -0.6297, -0.5813,\n",
       "        -0.4665, -0.4297, -0.1342, -0.3893, -0.6977,  0.0824,  0.5928,  0.2590,\n",
       "        -0.3520, -0.4811, -0.6174, -0.7167, -0.5370, -0.4062, -0.4273, -0.7281,\n",
       "        -0.7255, -0.6027,  0.3045, -0.0091, -0.7090, -0.6141,  0.0276,  0.4114,\n",
       "         0.6265,  0.7888,  0.4057,  0.4817,  0.5480,  0.3121, -0.1098,  0.0120,\n",
       "        -0.0157, -0.1254,  0.3685,  0.3439,  0.6288,  0.6302,  0.6517,  0.2688,\n",
       "         0.0093,  0.0261, -0.3504, -0.3587, -0.5208, -0.4904, -0.2740, -0.1582,\n",
       "        -0.5338, -0.4975, -0.7032, -0.2128,  0.1465, -0.0493, -0.7117, -0.7485,\n",
       "        -0.7237, -0.7640, -0.4102, -0.2379, -0.8273, -0.8386, -0.8254, -0.8033,\n",
       "         0.3912,  0.9974,  0.9935,  0.9349, -0.6939,  0.6675,  0.9756, -0.3242,\n",
       "         0.2340,  0.8785,  0.3057,  0.4214,  0.2562, -0.2135,  0.4501,  0.1649,\n",
       "        -0.1648, -0.1877, -0.1971,  0.0885,  0.5172,  0.5895,  0.3189,  0.0573,\n",
       "        -0.4880, -0.3443, -0.4079, -0.1175, -0.0751, -0.2978, -0.1672, -0.4509,\n",
       "        -0.2021, -0.2998, -0.3065, -0.3390], dtype=torch.float64,\n",
       "       grad_fn=<SelectBackward>)"
      ]
     },
     "execution_count": 129,
     "metadata": {},
     "output_type": "execute_result"
    }
   ],
   "source": [
    "output[0]"
   ]
  },
  {
   "cell_type": "code",
   "execution_count": 130,
   "metadata": {
    "ExecuteTime": {
     "end_time": "2019-04-18T20:00:07.193852Z",
     "start_time": "2019-04-18T20:00:07.186036Z"
    }
   },
   "outputs": [
    {
     "data": {
      "text/plain": [
       "tensor([-3.8848e-01, -4.1975e-01, -3.1084e-01, -2.2789e-01, -9.1855e-02,\n",
       "         2.5091e-02,  1.7965e-02,  1.2622e-03, -1.7665e-02,  5.9876e-01,\n",
       "         1.4278e+00,  3.2618e-01, -4.0180e-01, -4.6454e-01, -3.6086e-01,\n",
       "        -2.8060e-01, -3.3218e-01, -3.6834e-01, -3.1805e-01, -2.3660e-01,\n",
       "        -1.4238e-01,  1.1350e+00,  2.0158e+00,  1.3450e+00, -4.3168e-01,\n",
       "        -4.1242e-01,  6.9015e-01,  7.7096e-01,  5.6370e-01,  1.0882e+00,\n",
       "        -8.9459e-01,  1.7446e+00,  4.3974e+00,  2.6868e+00,  2.0853e+00,\n",
       "         7.1969e-01,  2.3380e-01,  1.8139e+00,  1.6557e+00,  4.7052e-01,\n",
       "        -2.5472e-01,  2.2698e-02,  4.9761e-01, -4.5681e-01, -2.1381e-01,\n",
       "         1.1722e+00,  4.8236e+00,  3.1698e+00,  5.9273e-01,  9.1747e-01,\n",
       "        -7.2016e-02, -2.8661e-01, -7.4517e-01,  3.5555e-01,  1.2726e+00,\n",
       "         6.6108e-01,  1.8287e-01, -4.7479e-01,  1.5895e-01,  1.1069e+00,\n",
       "         1.0098e+00, -1.2271e-01,  1.3430e-01, -1.4421e-01, -1.0667e-01,\n",
       "        -1.4556e-01, -2.1721e-01,  2.2091e-01, -1.9015e-01, -4.7449e-01,\n",
       "        -5.6380e-01, -5.0640e-02,  9.7257e-01,  4.2268e+00,  3.7540e+00,\n",
       "         2.3887e+00,  3.7893e-01,  1.9086e+00,  3.1743e+00,  9.9082e-01,\n",
       "         1.3360e+00,  1.8931e+00,  6.4227e-01,  1.2972e+00,  1.7469e+00,\n",
       "         8.7238e-01,  1.1217e+00,  1.1977e+00,  4.4822e-01, -2.8006e-01,\n",
       "         5.7663e-01,  1.8021e+00,  2.4517e+00,  1.2452e+00,  9.1904e-01,\n",
       "         1.5121e+00,  7.9021e-01,  8.2208e-01,  3.6823e-01,  1.2171e+00,\n",
       "         1.9853e+00,  1.1405e+00,  9.5788e-01,  3.8944e-01,  7.1157e-01,\n",
       "         7.8463e-01,  6.1754e-01,  8.0403e-01], dtype=torch.float64)"
      ]
     },
     "execution_count": 130,
     "metadata": {},
     "output_type": "execute_result"
    }
   ],
   "source": [
    "cc"
   ]
  },
  {
   "cell_type": "code",
   "execution_count": 138,
   "metadata": {
    "ExecuteTime": {
     "end_time": "2019-04-18T20:02:58.256629Z",
     "start_time": "2019-04-18T20:02:58.177583Z"
    }
   },
   "outputs": [
    {
     "data": {
      "text/plain": [
       "0.9999999999999986"
      ]
     },
     "execution_count": 138,
     "metadata": {},
     "output_type": "execute_result"
    }
   ],
   "source": [
    "np.std(C_stand)"
   ]
  },
  {
   "cell_type": "code",
   "execution_count": null,
   "metadata": {
    "ExecuteTime": {
     "start_time": "2019-04-19T05:30:15.415Z"
    }
   },
   "outputs": [
    {
     "name": "stdout",
     "output_type": "stream",
     "text": [
      "Starting Training Loop...\n"
     ]
    },
    {
     "name": "stderr",
     "output_type": "stream",
     "text": [
      "/media/alex/Data/alex/anaconda3/lib/python3.6/site-packages/torch/nn/functional.py:1320: UserWarning: nn.functional.tanh is deprecated. Use torch.tanh instead.\n",
      "  warnings.warn(\"nn.functional.tanh is deprecated. Use torch.tanh instead.\")\n"
     ]
    },
    {
     "name": "stdout",
     "output_type": "stream",
     "text": [
      "[0/50][0/969]\tLoss: 0.4787\n",
      "[0/50][50/969]\tLoss: 283.3751\n",
      "[0/50][100/969]\tLoss: 0.4778\n",
      "[0/50][150/969]\tLoss: 0.5060\n",
      "[0/50][200/969]\tLoss: 0.4736\n",
      "[0/50][250/969]\tLoss: 0.4723\n",
      "[0/50][300/969]\tLoss: 0.4664\n",
      "[0/50][350/969]\tLoss: 0.4776\n",
      "[0/50][400/969]\tLoss: 0.4379\n",
      "[0/50][450/969]\tLoss: 0.4445\n",
      "[0/50][500/969]\tLoss: 0.4409\n",
      "[0/50][550/969]\tLoss: 0.4329\n",
      "[0/50][600/969]\tLoss: 0.5340\n",
      "[0/50][650/969]\tLoss: 0.4870\n",
      "[0/50][700/969]\tLoss: 0.5495\n",
      "[0/50][750/969]\tLoss: 0.4517\n",
      "[0/50][800/969]\tLoss: 0.4742\n",
      "[0/50][850/969]\tLoss: 0.5042\n",
      "[0/50][900/969]\tLoss: 0.4887\n",
      "[0/50][950/969]\tLoss: 0.5931\n",
      "Mean train error: 1.326887958956591 \n",
      "Mean test error: 4.518269734574884 \n",
      "\n",
      "[1/50][0/969]\tLoss: 0.4470\n",
      "[1/50][50/969]\tLoss: 0.4931\n",
      "[1/50][100/969]\tLoss: 0.4450\n",
      "[1/50][150/969]\tLoss: 0.6058\n",
      "[1/50][200/969]\tLoss: 0.5122\n",
      "[1/50][250/969]\tLoss: 0.4447\n",
      "[1/50][300/969]\tLoss: 0.4413\n",
      "[1/50][350/969]\tLoss: 0.4779\n",
      "[1/50][400/969]\tLoss: 0.4607\n",
      "[1/50][450/969]\tLoss: 0.5225\n",
      "[1/50][500/969]\tLoss: 0.5244\n",
      "[1/50][550/969]\tLoss: 0.4197\n",
      "[1/50][600/969]\tLoss: 0.5016\n",
      "[1/50][650/969]\tLoss: 0.4518\n",
      "[1/50][700/969]\tLoss: 0.4307\n",
      "[1/50][750/969]\tLoss: 0.5088\n",
      "[1/50][800/969]\tLoss: 0.4794\n",
      "[1/50][850/969]\tLoss: 0.4677\n",
      "[1/50][900/969]\tLoss: 0.4493\n",
      "[1/50][950/969]\tLoss: 0.4831\n",
      "Mean train error: 1.3268768462665919 \n",
      "Mean test error: 4.519052818306395 \n",
      "\n",
      "[2/50][0/969]\tLoss: 0.4635\n",
      "[2/50][50/969]\tLoss: 0.4846\n",
      "[2/50][100/969]\tLoss: 0.4280\n",
      "[2/50][150/969]\tLoss: 0.5033\n",
      "[2/50][200/969]\tLoss: 0.5129\n",
      "[2/50][250/969]\tLoss: 0.4660\n",
      "[2/50][300/969]\tLoss: 0.4466\n",
      "[2/50][350/969]\tLoss: 0.5068\n",
      "[2/50][400/969]\tLoss: 0.4690\n",
      "[2/50][450/969]\tLoss: 0.4637\n",
      "[2/50][500/969]\tLoss: 0.4983\n",
      "[2/50][550/969]\tLoss: 0.4957\n",
      "[2/50][600/969]\tLoss: 0.4432\n",
      "[2/50][650/969]\tLoss: 0.5172\n",
      "[2/50][700/969]\tLoss: 0.5138\n",
      "[2/50][750/969]\tLoss: 0.4548\n",
      "[2/50][800/969]\tLoss: 0.4474\n",
      "[2/50][850/969]\tLoss: 0.4534\n",
      "[2/50][900/969]\tLoss: 0.5179\n",
      "[2/50][950/969]\tLoss: 0.4664\n",
      "Mean train error: 1.3268697863284336 \n",
      "Mean test error: 4.518343079602376 \n",
      "\n",
      "[3/50][0/969]\tLoss: 0.5080\n",
      "[3/50][50/969]\tLoss: 0.4154\n",
      "[3/50][100/969]\tLoss: 0.5138\n",
      "[3/50][150/969]\tLoss: 0.4632\n",
      "[3/50][200/969]\tLoss: 0.4867\n",
      "[3/50][250/969]\tLoss: 0.4689\n",
      "[3/50][300/969]\tLoss: 0.4877\n",
      "[3/50][350/969]\tLoss: 0.4825\n",
      "[3/50][400/969]\tLoss: 0.5137\n",
      "[3/50][450/969]\tLoss: 0.5131\n",
      "[3/50][500/969]\tLoss: 0.5473\n",
      "[3/50][550/969]\tLoss: 0.4683\n",
      "[3/50][600/969]\tLoss: 0.4823\n",
      "[3/50][650/969]\tLoss: 0.5113\n",
      "[3/50][700/969]\tLoss: 0.5367\n",
      "[3/50][750/969]\tLoss: 0.4527\n",
      "[3/50][800/969]\tLoss: 0.4437\n",
      "[3/50][850/969]\tLoss: 0.4865\n",
      "[3/50][900/969]\tLoss: 0.4798\n",
      "[3/50][950/969]\tLoss: 0.4652\n",
      "Mean train error: 1.326891588110742 \n",
      "Mean test error: 4.518369213549946 \n",
      "\n",
      "[4/50][0/969]\tLoss: 0.5273\n"
     ]
    }
   ],
   "source": [
    "# Train\n",
    "train_losses = []\n",
    "test_losses = []\n",
    "\n",
    "print(\"Starting Training Loop...\")\n",
    "# For each epoch\n",
    "for epoch in range(num_epochs):\n",
    "    errs = []\n",
    "    test_errs = []\n",
    "    # For each batch in the dataloader\n",
    "    for i, data in enumerate(dataloader, 0):\n",
    "        stft2cqt.zero_grad()\n",
    "        # Format batch\n",
    "        stft = data[0].view(-1,1,1025).to(device)\n",
    "        cqt = data[1].view(-1,1,108).to(device)\n",
    "        # Forward pass\n",
    "        output = cqt2stft_conv(cqt)\n",
    "        # Calculate loss\n",
    "        err = mseLoss(stft, output)\n",
    "        # Calculate gradients for D in backward pass\n",
    "        err.backward()\n",
    "        # Update D\n",
    "        optimizer_stft2cqt.step()\n",
    "        \n",
    "        if i % 50 == 0:\n",
    "            print('[%d/%d][%d/%d]\\tLoss: %.4f'\n",
    "                  % (epoch, num_epochs, i, len(dataloader), err.item()))\n",
    "            \n",
    "        # Save Losses for plotting later\n",
    "        errs.append(err.item())\n",
    "        \n",
    "    with torch.no_grad():\n",
    "        for j, test in enumerate(testloader, 0):\n",
    "            stft_test = test[0].view(-1,1,1025).to(device)\n",
    "            cqt_test = test[1].view(-1,1,108).to(device)\n",
    "            output_test = cqt2stft_conv(cqt_test)\n",
    "            err_test = mseLoss(stft_test, output_test)\n",
    "            test_errs.append(err_test.item())\n",
    "\n",
    "    train_losses.append(np.mean(errs))\n",
    "    test_losses.append(np.mean(test_errs))\n",
    "    print(\"Mean train error: {} \\nMean test error: {} \\n\".format(np.mean(errs), np.mean(test_errs)))"
   ]
  },
  {
   "cell_type": "code",
   "execution_count": 204,
   "metadata": {
    "ExecuteTime": {
     "end_time": "2019-04-19T05:28:16.492383Z",
     "start_time": "2019-04-19T05:28:16.484564Z"
    }
   },
   "outputs": [
    {
     "data": {
      "text/plain": [
       "torch.Size([32, 1025])"
      ]
     },
     "execution_count": 204,
     "metadata": {},
     "output_type": "execute_result"
    }
   ],
   "source": [
    "test[0].shape"
   ]
  },
  {
   "cell_type": "code",
   "execution_count": 162,
   "metadata": {
    "ExecuteTime": {
     "end_time": "2019-04-18T21:15:19.695690Z",
     "start_time": "2019-04-18T21:15:19.683819Z"
    }
   },
   "outputs": [
    {
     "data": {
      "text/plain": [
       "torch.Size([128, 2, 54])"
      ]
     },
     "execution_count": 162,
     "metadata": {},
     "output_type": "execute_result"
    }
   ],
   "source": [
    "zh=cqt.view(128,2,54)\n",
    "zh.shape"
   ]
  },
  {
   "cell_type": "code",
   "execution_count": 165,
   "metadata": {
    "ExecuteTime": {
     "end_time": "2019-04-18T21:16:31.594661Z",
     "start_time": "2019-04-18T21:16:31.588638Z"
    }
   },
   "outputs": [
    {
     "data": {
      "text/plain": [
       "128"
      ]
     },
     "execution_count": 165,
     "metadata": {},
     "output_type": "execute_result"
    }
   ],
   "source": [
    "data[0].shape[0]"
   ]
  },
  {
   "cell_type": "code",
   "execution_count": 164,
   "metadata": {
    "ExecuteTime": {
     "end_time": "2019-04-18T21:15:57.163280Z",
     "start_time": "2019-04-18T21:15:57.151380Z"
    }
   },
   "outputs": [
    {
     "data": {
      "text/plain": [
       "torch.Size([128, 108])"
      ]
     },
     "execution_count": 164,
     "metadata": {},
     "output_type": "execute_result"
    }
   ],
   "source": [
    "#     t = t.reshape(1, -1)\n",
    "#     t = t.squeeze()\n",
    "zh.reshape(128,-1).shape"
   ]
  },
  {
   "cell_type": "code",
   "execution_count": null,
   "metadata": {},
   "outputs": [],
   "source": []
  }
 ],
 "metadata": {
  "kernelspec": {
   "display_name": "Python 3",
   "language": "python",
   "name": "python3"
  },
  "language_info": {
   "codemirror_mode": {
    "name": "ipython",
    "version": 3
   },
   "file_extension": ".py",
   "mimetype": "text/x-python",
   "name": "python",
   "nbconvert_exporter": "python",
   "pygments_lexer": "ipython3",
   "version": "3.6.8"
  },
  "varInspector": {
   "cols": {
    "lenName": 16,
    "lenType": 16,
    "lenVar": 40
   },
   "kernels_config": {
    "python": {
     "delete_cmd_postfix": "",
     "delete_cmd_prefix": "del ",
     "library": "var_list.py",
     "varRefreshCmd": "print(var_dic_list())"
    },
    "r": {
     "delete_cmd_postfix": ") ",
     "delete_cmd_prefix": "rm(",
     "library": "var_list.r",
     "varRefreshCmd": "cat(var_dic_list()) "
    }
   },
   "types_to_exclude": [
    "module",
    "function",
    "builtin_function_or_method",
    "instance",
    "_Feature"
   ],
   "window_display": false
  }
 },
 "nbformat": 4,
 "nbformat_minor": 2
}
